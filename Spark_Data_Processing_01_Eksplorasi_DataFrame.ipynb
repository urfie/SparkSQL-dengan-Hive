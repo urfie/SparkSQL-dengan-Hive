{
  "nbformat": 4,
  "nbformat_minor": 0,
  "metadata": {
    "colab": {
      "provenance": [],
      "toc_visible": true
    },
    "kernelspec": {
      "name": "python3",
      "display_name": "Python 3"
    }
  },
  "cells": [
    {
      "cell_type": "markdown",
      "metadata": {
        "id": "VSqTiubIBpoG"
      },
      "source": [
        "# Mempersiapkan environment"
      ]
    },
    {
      "cell_type": "markdown",
      "metadata": {
        "id": "8elK3IvmVTew"
      },
      "source": [
        "##a. Install pyspark package\n",
        "Untuk menjalankan notebook ini di Google colab, langkah pertama yang perlu dilakukan adalah menginstall package `pyspark`, karena package tersebut tidak disertakan secara default.\n",
        "\n",
        "Langkah ini perlu dilakukan setiap membuka session/notebook baru.\n",
        "\n",
        "Instalasi kita lakukan dengan perintah `pip`"
      ]
    },
    {
      "cell_type": "code",
      "metadata": {
        "id": "xyqGzlLOuBpV",
        "colab": {
          "base_uri": "https://localhost:8080/"
        },
        "outputId": "334793bd-f086-4018-b7ce-f497ba928422"
      },
      "source": [
        "%pip install pyspark"
      ],
      "execution_count": null,
      "outputs": [
        {
          "output_type": "stream",
          "name": "stdout",
          "text": [
            "Looking in indexes: https://pypi.org/simple, https://us-python.pkg.dev/colab-wheels/public/simple/\n",
            "Collecting pyspark\n",
            "  Downloading pyspark-3.4.0.tar.gz (310.8 MB)\n",
            "\u001b[2K     \u001b[90m━━━━━━━━━━━━━━━━━━━━━━━━━━━━━━━━━━━━━━━\u001b[0m \u001b[32m310.8/310.8 MB\u001b[0m \u001b[31m4.3 MB/s\u001b[0m eta \u001b[36m0:00:00\u001b[0m\n",
            "\u001b[?25h  Preparing metadata (setup.py) ... \u001b[?25l\u001b[?25hdone\n",
            "Requirement already satisfied: py4j==0.10.9.7 in /usr/local/lib/python3.10/dist-packages (from pyspark) (0.10.9.7)\n",
            "Building wheels for collected packages: pyspark\n",
            "  Building wheel for pyspark (setup.py) ... \u001b[?25l\u001b[?25hdone\n",
            "  Created wheel for pyspark: filename=pyspark-3.4.0-py2.py3-none-any.whl size=311317130 sha256=8c3f21c3fb64496332e55192de0fc68c36127f6c470f10a19ed03fc62ef6b4ab\n",
            "  Stored in directory: /root/.cache/pip/wheels/7b/1b/4b/3363a1d04368e7ff0d408e57ff57966fcdf00583774e761327\n",
            "Successfully built pyspark\n",
            "Installing collected packages: pyspark\n",
            "Successfully installed pyspark-3.4.0\n"
          ]
        }
      ]
    },
    {
      "cell_type": "markdown",
      "metadata": {
        "id": "3Ddekh7YVnsI"
      },
      "source": [
        "\n",
        "##b. Membuat spark session\n",
        "\n",
        "Import library yang akan digunakan."
      ]
    },
    {
      "cell_type": "code",
      "metadata": {
        "id": "qJDNbI5gti9B"
      },
      "source": [
        "import pyspark\n",
        "from pyspark.sql import SparkSession\n",
        "from pyspark.sql import functions as F"
      ],
      "execution_count": null,
      "outputs": []
    },
    {
      "cell_type": "markdown",
      "source": [
        "Inisialisasi spark session untuk berinteraksi dengan Spark cluster"
      ],
      "metadata": {
        "id": "HgEv2iNhTitC"
      }
    },
    {
      "cell_type": "code",
      "metadata": {
        "id": "Hnxed8rpt5Xs"
      },
      "source": [
        "spark = SparkSession.builder.appName('DataFrame Basics').getOrCreate()"
      ],
      "execution_count": null,
      "outputs": []
    },
    {
      "cell_type": "markdown",
      "metadata": {
        "id": "aiotjcgbz9gv"
      },
      "source": [
        "#1.Lab 02 - Membuat DataFrame"
      ]
    },
    {
      "cell_type": "markdown",
      "source": [
        "DataFrame dapat dibuat dengan banyak cara, di antaranya :\n",
        "- Dari python object, misalnya array/list, dictionary, pandas dataframe, dll\n",
        "- Dari file : csv, json, dll\n",
        "- Dari HDFS\n",
        "- Dari RDD\n",
        "- dll."
      ],
      "metadata": {
        "id": "R4puMNX2WfRN"
      }
    },
    {
      "cell_type": "markdown",
      "metadata": {
        "id": "dOf-4dxAgOsv"
      },
      "source": [
        "##1.1. Create From Array"
      ]
    },
    {
      "cell_type": "code",
      "metadata": {
        "id": "ScgatWyqepcH",
        "colab": {
          "base_uri": "https://localhost:8080/"
        },
        "outputId": "3c5d8bc3-8787-471d-e660-a984e47d6a85"
      },
      "source": [
        "mydata = (('DKI JAKARTA',15328),\n",
        "('JAWA BARAT',1320),\n",
        "('JAWA TENGAH',1030),\n",
        "('DI YOGYAKARTA',1174),\n",
        "('JAWA TIMUR',813),\n",
        "('BANTEN',1237))\n",
        "\n",
        "df_from_array = spark.createDataFrame(mydata).toDF(\"province\", \"density\")\n",
        "\n",
        "df_from_array.show()"
      ],
      "execution_count": null,
      "outputs": [
        {
          "output_type": "stream",
          "name": "stdout",
          "text": [
            "+-------------+-------+\n",
            "|     province|density|\n",
            "+-------------+-------+\n",
            "|  DKI JAKARTA|  15328|\n",
            "|   JAWA BARAT|   1320|\n",
            "|  JAWA TENGAH|   1030|\n",
            "|DI YOGYAKARTA|   1174|\n",
            "|   JAWA TIMUR|    813|\n",
            "|       BANTEN|   1237|\n",
            "+-------------+-------+\n",
            "\n"
          ]
        }
      ]
    },
    {
      "cell_type": "markdown",
      "metadata": {
        "id": "XYN1nYAiWx6u"
      },
      "source": [
        "##1.2. Create from Pandas DataFrame"
      ]
    },
    {
      "cell_type": "markdown",
      "source": [
        "Dowload file"
      ],
      "metadata": {
        "id": "H4ksYmW7ZCXF"
      }
    },
    {
      "cell_type": "code",
      "metadata": {
        "id": "FSEQn5OJ4vnK",
        "colab": {
          "base_uri": "https://localhost:8080/"
        },
        "outputId": "96bc4a51-c3b8-43e0-bbaf-ed07728c583c"
      },
      "source": [
        "!wget https://raw.githubusercontent.com/urfie/SparkSQL-dengan-Hive/main/datasets/penduduk2015.csv"
      ],
      "execution_count": null,
      "outputs": [
        {
          "output_type": "stream",
          "name": "stdout",
          "text": [
            "--2023-06-16 02:56:59--  https://www.dropbox.com/s/65mohvoyjshtqa9/penduduk2015.csv\n",
            "Resolving www.dropbox.com (www.dropbox.com)... 162.125.3.18, 2620:100:6035:18::a27d:5512\n",
            "Connecting to www.dropbox.com (www.dropbox.com)|162.125.3.18|:443... connected.\n",
            "HTTP request sent, awaiting response... 302 Found\n",
            "Location: /s/raw/65mohvoyjshtqa9/penduduk2015.csv [following]\n",
            "--2023-06-16 02:56:59--  https://www.dropbox.com/s/raw/65mohvoyjshtqa9/penduduk2015.csv\n",
            "Reusing existing connection to www.dropbox.com:443.\n",
            "HTTP request sent, awaiting response... 302 Found\n",
            "Location: https://uce38357161e5fb0072e163095ba.dl.dropboxusercontent.com/cd/0/inline/B-GdtwCO3zPfA7gdzREuo7NuDSsaFP40NBEAhCc9MEVY8QYHwmBSJ_My2e3v6I8mPGoOt5HZYrkaREHgslE6jCz8PzBY4Ggy6hwgCbYMZM1vMBXoPtnf4dag-BO7KOzlsx3EQ1LUOcnSnpPKdziKEJc6bWU6oNMFA1EHUoqXFx-v9Q/file# [following]\n",
            "--2023-06-16 02:57:00--  https://uce38357161e5fb0072e163095ba.dl.dropboxusercontent.com/cd/0/inline/B-GdtwCO3zPfA7gdzREuo7NuDSsaFP40NBEAhCc9MEVY8QYHwmBSJ_My2e3v6I8mPGoOt5HZYrkaREHgslE6jCz8PzBY4Ggy6hwgCbYMZM1vMBXoPtnf4dag-BO7KOzlsx3EQ1LUOcnSnpPKdziKEJc6bWU6oNMFA1EHUoqXFx-v9Q/file\n",
            "Resolving uce38357161e5fb0072e163095ba.dl.dropboxusercontent.com (uce38357161e5fb0072e163095ba.dl.dropboxusercontent.com)... 162.125.3.15, 2620:100:6018:15::a27d:30f\n",
            "Connecting to uce38357161e5fb0072e163095ba.dl.dropboxusercontent.com (uce38357161e5fb0072e163095ba.dl.dropboxusercontent.com)|162.125.3.15|:443... connected.\n",
            "HTTP request sent, awaiting response... 200 OK\n",
            "Length: 120 [text/plain]\n",
            "Saving to: ‘penduduk2015.csv’\n",
            "\n",
            "penduduk2015.csv    100%[===================>]     120  --.-KB/s    in 0s      \n",
            "\n",
            "2023-06-16 02:57:00 (12.9 MB/s) - ‘penduduk2015.csv’ saved [120/120]\n",
            "\n"
          ]
        }
      ]
    },
    {
      "cell_type": "markdown",
      "source": [
        "Create pandas dataframe dari file csv tersebut"
      ],
      "metadata": {
        "id": "AzgGjBoCZEqP"
      }
    },
    {
      "cell_type": "code",
      "metadata": {
        "id": "34owT-3uAGca",
        "colab": {
          "base_uri": "https://localhost:8080/",
          "height": 237
        },
        "outputId": "cd5fb447-689b-49b3-d482-bfe2775f55d5"
      },
      "source": [
        "import pandas as pd\n",
        "\n",
        "pddf = pd.read_csv('penduduk2015.csv')\n",
        "pddf"
      ],
      "execution_count": null,
      "outputs": [
        {
          "output_type": "execute_result",
          "data": {
            "text/plain": [
              "        propinsi  penduduk\n",
              "0    DKI JAKARTA     15328\n",
              "1     JAWA BARAT      1320\n",
              "2    JAWA TENGAH      1030\n",
              "3  DI YOGYAKARTA      1174\n",
              "4     JAWA TIMUR       813\n",
              "5         BANTEN      1237"
            ],
            "text/html": [
              "\n",
              "  <div id=\"df-c23adf18-b3c8-48ca-8d8a-150fc5df3201\">\n",
              "    <div class=\"colab-df-container\">\n",
              "      <div>\n",
              "<style scoped>\n",
              "    .dataframe tbody tr th:only-of-type {\n",
              "        vertical-align: middle;\n",
              "    }\n",
              "\n",
              "    .dataframe tbody tr th {\n",
              "        vertical-align: top;\n",
              "    }\n",
              "\n",
              "    .dataframe thead th {\n",
              "        text-align: right;\n",
              "    }\n",
              "</style>\n",
              "<table border=\"1\" class=\"dataframe\">\n",
              "  <thead>\n",
              "    <tr style=\"text-align: right;\">\n",
              "      <th></th>\n",
              "      <th>propinsi</th>\n",
              "      <th>penduduk</th>\n",
              "    </tr>\n",
              "  </thead>\n",
              "  <tbody>\n",
              "    <tr>\n",
              "      <th>0</th>\n",
              "      <td>DKI JAKARTA</td>\n",
              "      <td>15328</td>\n",
              "    </tr>\n",
              "    <tr>\n",
              "      <th>1</th>\n",
              "      <td>JAWA BARAT</td>\n",
              "      <td>1320</td>\n",
              "    </tr>\n",
              "    <tr>\n",
              "      <th>2</th>\n",
              "      <td>JAWA TENGAH</td>\n",
              "      <td>1030</td>\n",
              "    </tr>\n",
              "    <tr>\n",
              "      <th>3</th>\n",
              "      <td>DI YOGYAKARTA</td>\n",
              "      <td>1174</td>\n",
              "    </tr>\n",
              "    <tr>\n",
              "      <th>4</th>\n",
              "      <td>JAWA TIMUR</td>\n",
              "      <td>813</td>\n",
              "    </tr>\n",
              "    <tr>\n",
              "      <th>5</th>\n",
              "      <td>BANTEN</td>\n",
              "      <td>1237</td>\n",
              "    </tr>\n",
              "  </tbody>\n",
              "</table>\n",
              "</div>\n",
              "      <button class=\"colab-df-convert\" onclick=\"convertToInteractive('df-c23adf18-b3c8-48ca-8d8a-150fc5df3201')\"\n",
              "              title=\"Convert this dataframe to an interactive table.\"\n",
              "              style=\"display:none;\">\n",
              "        \n",
              "  <svg xmlns=\"http://www.w3.org/2000/svg\" height=\"24px\"viewBox=\"0 0 24 24\"\n",
              "       width=\"24px\">\n",
              "    <path d=\"M0 0h24v24H0V0z\" fill=\"none\"/>\n",
              "    <path d=\"M18.56 5.44l.94 2.06.94-2.06 2.06-.94-2.06-.94-.94-2.06-.94 2.06-2.06.94zm-11 1L8.5 8.5l.94-2.06 2.06-.94-2.06-.94L8.5 2.5l-.94 2.06-2.06.94zm10 10l.94 2.06.94-2.06 2.06-.94-2.06-.94-.94-2.06-.94 2.06-2.06.94z\"/><path d=\"M17.41 7.96l-1.37-1.37c-.4-.4-.92-.59-1.43-.59-.52 0-1.04.2-1.43.59L10.3 9.45l-7.72 7.72c-.78.78-.78 2.05 0 2.83L4 21.41c.39.39.9.59 1.41.59.51 0 1.02-.2 1.41-.59l7.78-7.78 2.81-2.81c.8-.78.8-2.07 0-2.86zM5.41 20L4 18.59l7.72-7.72 1.47 1.35L5.41 20z\"/>\n",
              "  </svg>\n",
              "      </button>\n",
              "      \n",
              "  <style>\n",
              "    .colab-df-container {\n",
              "      display:flex;\n",
              "      flex-wrap:wrap;\n",
              "      gap: 12px;\n",
              "    }\n",
              "\n",
              "    .colab-df-convert {\n",
              "      background-color: #E8F0FE;\n",
              "      border: none;\n",
              "      border-radius: 50%;\n",
              "      cursor: pointer;\n",
              "      display: none;\n",
              "      fill: #1967D2;\n",
              "      height: 32px;\n",
              "      padding: 0 0 0 0;\n",
              "      width: 32px;\n",
              "    }\n",
              "\n",
              "    .colab-df-convert:hover {\n",
              "      background-color: #E2EBFA;\n",
              "      box-shadow: 0px 1px 2px rgba(60, 64, 67, 0.3), 0px 1px 3px 1px rgba(60, 64, 67, 0.15);\n",
              "      fill: #174EA6;\n",
              "    }\n",
              "\n",
              "    [theme=dark] .colab-df-convert {\n",
              "      background-color: #3B4455;\n",
              "      fill: #D2E3FC;\n",
              "    }\n",
              "\n",
              "    [theme=dark] .colab-df-convert:hover {\n",
              "      background-color: #434B5C;\n",
              "      box-shadow: 0px 1px 3px 1px rgba(0, 0, 0, 0.15);\n",
              "      filter: drop-shadow(0px 1px 2px rgba(0, 0, 0, 0.3));\n",
              "      fill: #FFFFFF;\n",
              "    }\n",
              "  </style>\n",
              "\n",
              "      <script>\n",
              "        const buttonEl =\n",
              "          document.querySelector('#df-c23adf18-b3c8-48ca-8d8a-150fc5df3201 button.colab-df-convert');\n",
              "        buttonEl.style.display =\n",
              "          google.colab.kernel.accessAllowed ? 'block' : 'none';\n",
              "\n",
              "        async function convertToInteractive(key) {\n",
              "          const element = document.querySelector('#df-c23adf18-b3c8-48ca-8d8a-150fc5df3201');\n",
              "          const dataTable =\n",
              "            await google.colab.kernel.invokeFunction('convertToInteractive',\n",
              "                                                     [key], {});\n",
              "          if (!dataTable) return;\n",
              "\n",
              "          const docLinkHtml = 'Like what you see? Visit the ' +\n",
              "            '<a target=\"_blank\" href=https://colab.research.google.com/notebooks/data_table.ipynb>data table notebook</a>'\n",
              "            + ' to learn more about interactive tables.';\n",
              "          element.innerHTML = '';\n",
              "          dataTable['output_type'] = 'display_data';\n",
              "          await google.colab.output.renderOutput(dataTable, element);\n",
              "          const docLink = document.createElement('div');\n",
              "          docLink.innerHTML = docLinkHtml;\n",
              "          element.appendChild(docLink);\n",
              "        }\n",
              "      </script>\n",
              "    </div>\n",
              "  </div>\n",
              "  "
            ]
          },
          "metadata": {},
          "execution_count": 6
        }
      ]
    },
    {
      "cell_type": "markdown",
      "source": [
        "Ubah ke Spark dataframe"
      ],
      "metadata": {
        "id": "3P8yoarCZL5o"
      }
    },
    {
      "cell_type": "code",
      "metadata": {
        "id": "r7Hyq3iuO-RF",
        "colab": {
          "base_uri": "https://localhost:8080/"
        },
        "outputId": "5c96c50b-794a-451e-80e3-7f88d8262562"
      },
      "source": [
        "df_from_pandas = spark.createDataFrame(pddf)\n",
        "df_from_pandas.show()"
      ],
      "execution_count": null,
      "outputs": [
        {
          "output_type": "stream",
          "name": "stdout",
          "text": [
            "+-------------+--------+\n",
            "|     propinsi|penduduk|\n",
            "+-------------+--------+\n",
            "|  DKI JAKARTA|   15328|\n",
            "|   JAWA BARAT|    1320|\n",
            "|  JAWA TENGAH|    1030|\n",
            "|DI YOGYAKARTA|    1174|\n",
            "|   JAWA TIMUR|     813|\n",
            "|       BANTEN|    1237|\n",
            "+-------------+--------+\n",
            "\n"
          ]
        }
      ]
    },
    {
      "cell_type": "markdown",
      "metadata": {
        "id": "XKco8E9FgidD"
      },
      "source": [
        "##1.3. Create from csv"
      ]
    },
    {
      "cell_type": "markdown",
      "source": [
        "Kita juga bisa me-load langsung file csv tersebut ke Spark dataframe"
      ],
      "metadata": {
        "id": "5IwfM7QBZRlS"
      }
    },
    {
      "cell_type": "code",
      "metadata": {
        "id": "zQ3yUkvjlKqN",
        "colab": {
          "base_uri": "https://localhost:8080/"
        },
        "outputId": "046f11be-2dee-4e1c-b980-8f655c080172"
      },
      "source": [
        "df_from_csv = spark.read.csv(\"penduduk2015.csv\", header=True)\n",
        "df_from_csv.show()"
      ],
      "execution_count": null,
      "outputs": [
        {
          "output_type": "stream",
          "name": "stdout",
          "text": [
            "+-------------+--------+\n",
            "|     propinsi|penduduk|\n",
            "+-------------+--------+\n",
            "|  DKI JAKARTA|   15328|\n",
            "|   JAWA BARAT|    1320|\n",
            "|  JAWA TENGAH|    1030|\n",
            "|DI YOGYAKARTA|    1174|\n",
            "|   JAWA TIMUR|     813|\n",
            "|       BANTEN|    1237|\n",
            "+-------------+--------+\n",
            "\n"
          ]
        }
      ]
    },
    {
      "cell_type": "markdown",
      "metadata": {
        "id": "n83qkTxzrrma"
      },
      "source": [
        "##1.4. Create from JSON"
      ]
    },
    {
      "cell_type": "code",
      "metadata": {
        "id": "i_NWvf1E52v2",
        "colab": {
          "base_uri": "https://localhost:8080/"
        },
        "outputId": "cda7c4f3-7112-4f8c-b9d7-e33194b3450f"
      },
      "source": [
        "!wget https://raw.githubusercontent.com/urfie/SparkSQL-dengan-Hive/main/datasets/penduduk2015.csv"
      ],
      "execution_count": null,
      "outputs": [
        {
          "output_type": "stream",
          "name": "stdout",
          "text": [
            "--2023-06-16 02:58:01--  https://www.dropbox.com/s/8wpyzukkmmn3t6g/penduduk2015.json\n",
            "Resolving www.dropbox.com (www.dropbox.com)... 162.125.3.18, 2620:100:6018:18::a27d:312\n",
            "Connecting to www.dropbox.com (www.dropbox.com)|162.125.3.18|:443... connected.\n",
            "HTTP request sent, awaiting response... 302 Found\n",
            "Location: /s/raw/8wpyzukkmmn3t6g/penduduk2015.json [following]\n",
            "--2023-06-16 02:58:02--  https://www.dropbox.com/s/raw/8wpyzukkmmn3t6g/penduduk2015.json\n",
            "Reusing existing connection to www.dropbox.com:443.\n",
            "HTTP request sent, awaiting response... 302 Found\n",
            "Location: https://uc11be2ee1fa76b97d34791723d0.dl.dropboxusercontent.com/cd/0/inline/B-Eno0sghvbSBxmm-HFCNYPpkZYY9GMLlNk4KSo5rDqs09bIELxf1ZDQPkARtkQGKWbd7Jf6f83Fqkzns0D016b96LIvp7lgnv6grg8X5uDE5zPl7LfPALhbKnehAxNs_oHjXRHM8dA4jwLEXVEx-NHvx7P5y_rtanMuiQAdAI2rLA/file# [following]\n",
            "--2023-06-16 02:58:02--  https://uc11be2ee1fa76b97d34791723d0.dl.dropboxusercontent.com/cd/0/inline/B-Eno0sghvbSBxmm-HFCNYPpkZYY9GMLlNk4KSo5rDqs09bIELxf1ZDQPkARtkQGKWbd7Jf6f83Fqkzns0D016b96LIvp7lgnv6grg8X5uDE5zPl7LfPALhbKnehAxNs_oHjXRHM8dA4jwLEXVEx-NHvx7P5y_rtanMuiQAdAI2rLA/file\n",
            "Resolving uc11be2ee1fa76b97d34791723d0.dl.dropboxusercontent.com (uc11be2ee1fa76b97d34791723d0.dl.dropboxusercontent.com)... 162.125.3.15, 2620:100:6018:15::a27d:30f\n",
            "Connecting to uc11be2ee1fa76b97d34791723d0.dl.dropboxusercontent.com (uc11be2ee1fa76b97d34791723d0.dl.dropboxusercontent.com)|162.125.3.15|:443... connected.\n",
            "HTTP request sent, awaiting response... 200 OK\n",
            "Length: 364 [text/plain]\n",
            "Saving to: ‘penduduk2015.json’\n",
            "\n",
            "penduduk2015.json   100%[===================>]     364  --.-KB/s    in 0s      \n",
            "\n",
            "2023-06-16 02:58:02 (81.2 MB/s) - ‘penduduk2015.json’ saved [364/364]\n",
            "\n"
          ]
        }
      ]
    },
    {
      "cell_type": "markdown",
      "metadata": {
        "id": "eTcgb1HEevnh"
      },
      "source": [
        "Tampilkan isi file dengan perintah `cat`"
      ]
    },
    {
      "cell_type": "code",
      "metadata": {
        "id": "3nI8eugSjORM",
        "colab": {
          "base_uri": "https://localhost:8080/"
        },
        "outputId": "c72b58a1-7e66-4a59-99e9-bfd5f5713532"
      },
      "source": [
        "!cat penduduk2015.json"
      ],
      "execution_count": null,
      "outputs": [
        {
          "output_type": "stream",
          "name": "stdout",
          "text": [
            "[\r\n",
            " {\r\n",
            "   \"propinsi\": \"DKI JAKARTA\",\r\n",
            "   \"penduduk\": 15328\r\n",
            " },\r\n",
            " {\r\n",
            "   \"propinsi\": \"JAWA BARAT\",\r\n",
            "   \"penduduk\": 1320\r\n",
            " },\r\n",
            " {\r\n",
            "   \"propinsi\": \"JAWA TENGAH\",\r\n",
            "   \"penduduk\": 1030\r\n",
            " },\r\n",
            " {\r\n",
            "   \"propinsi\": \"DI YOGYAKARTA\",\r\n",
            "   \"penduduk\": 1174\r\n",
            " },\r\n",
            " {\r\n",
            "   \"propinsi\": \"JAWA TIMUR\",\r\n",
            "   \"penduduk\": 813\r\n",
            " },\r\n",
            " {\r\n",
            "   \"propinsi\": \"BANTEN\",\r\n",
            "   \"penduduk\": 1237\r\n",
            " }\r\n",
            "]"
          ]
        }
      ]
    },
    {
      "cell_type": "markdown",
      "source": [
        "Untuk membaca multiline JSON, set parameter `multiline` = True"
      ],
      "metadata": {
        "id": "cmMxONptZmPU"
      }
    },
    {
      "cell_type": "code",
      "metadata": {
        "id": "XhVBi_ndruRA",
        "colab": {
          "base_uri": "https://localhost:8080/"
        },
        "outputId": "ce6490e9-d207-49f1-b7a6-2080bc98440f"
      },
      "source": [
        "dfj = spark.read.json(\"penduduk2015.json\", multiLine=True)\n",
        "dfj.show()"
      ],
      "execution_count": null,
      "outputs": [
        {
          "output_type": "stream",
          "name": "stdout",
          "text": [
            "+--------+-------------+\n",
            "|penduduk|     propinsi|\n",
            "+--------+-------------+\n",
            "|   15328|  DKI JAKARTA|\n",
            "|    1320|   JAWA BARAT|\n",
            "|    1030|  JAWA TENGAH|\n",
            "|    1174|DI YOGYAKARTA|\n",
            "|     813|   JAWA TIMUR|\n",
            "|    1237|       BANTEN|\n",
            "+--------+-------------+\n",
            "\n"
          ]
        }
      ]
    },
    {
      "cell_type": "markdown",
      "metadata": {
        "id": "pzpuNpb8myW3"
      },
      "source": [
        "#2.Lab 03 - Explorasi DataFrame\n",
        "\n",
        "Dalam latihan ini kita akan mencoba berbagai operasi pada Spark DataFrame untuk melakukan eksplorasi data.\n",
        "\n",
        "Kita akan menggunakan data kepadatan penduduk per propinsi."
      ]
    },
    {
      "cell_type": "code",
      "metadata": {
        "id": "-qO8foHlWexn",
        "colab": {
          "base_uri": "https://localhost:8080/"
        },
        "outputId": "0974336a-1f0a-495a-9927-f3c8e03ec1c4"
      },
      "source": [
        "#!wget https://www.dropbox.com/s/4ozzaa2yvy2kkza/indonesia2013-2015.csv\n",
        "!wget https://raw.githubusercontent.com/urfie/SparkSQL-dengan-Hive/main/datasets/indonesia2013-2015.csv"
      ],
      "execution_count": null,
      "outputs": [
        {
          "output_type": "stream",
          "name": "stdout",
          "text": [
            "--2023-06-16 02:58:48--  https://www.dropbox.com/s/4ozzaa2yvy2kkza/indonesia2013-2015.csv\n",
            "Resolving www.dropbox.com (www.dropbox.com)... 162.125.3.18, 2620:100:6020:18::a27d:4012\n",
            "Connecting to www.dropbox.com (www.dropbox.com)|162.125.3.18|:443... connected.\n",
            "HTTP request sent, awaiting response... 302 Found\n",
            "Location: /s/raw/4ozzaa2yvy2kkza/indonesia2013-2015.csv [following]\n",
            "--2023-06-16 02:58:48--  https://www.dropbox.com/s/raw/4ozzaa2yvy2kkza/indonesia2013-2015.csv\n",
            "Reusing existing connection to www.dropbox.com:443.\n",
            "HTTP request sent, awaiting response... 302 Found\n",
            "Location: https://uce38c0742af78bc9a60e84e2859.dl.dropboxusercontent.com/cd/0/inline/B-GDHcMiawTz6D87lHEFvw4XvWRwUFKsVOCWDc4Hv4uZEBv333uNzjS7bNV_pGC_vWqeC0PBCtA6Lgq_yyr-6zPkbSS1UhdHKSg1o8b3xLY8-2Soj_smU3jpk0_fInhPK9-HiWT63sXsmrdODkxemOTFpsgIHO8MTsKaR6j-2Jl5BA/file# [following]\n",
            "--2023-06-16 02:58:48--  https://uce38c0742af78bc9a60e84e2859.dl.dropboxusercontent.com/cd/0/inline/B-GDHcMiawTz6D87lHEFvw4XvWRwUFKsVOCWDc4Hv4uZEBv333uNzjS7bNV_pGC_vWqeC0PBCtA6Lgq_yyr-6zPkbSS1UhdHKSg1o8b3xLY8-2Soj_smU3jpk0_fInhPK9-HiWT63sXsmrdODkxemOTFpsgIHO8MTsKaR6j-2Jl5BA/file\n",
            "Resolving uce38c0742af78bc9a60e84e2859.dl.dropboxusercontent.com (uce38c0742af78bc9a60e84e2859.dl.dropboxusercontent.com)... 162.125.3.15, 2620:100:6018:15::a27d:30f\n",
            "Connecting to uce38c0742af78bc9a60e84e2859.dl.dropboxusercontent.com (uce38c0742af78bc9a60e84e2859.dl.dropboxusercontent.com)|162.125.3.15|:443... connected.\n",
            "HTTP request sent, awaiting response... 200 OK\n",
            "Length: 2771 (2.7K) [text/plain]\n",
            "Saving to: ‘indonesia2013-2015.csv’\n",
            "\n",
            "indonesia2013-2015. 100%[===================>]   2.71K  --.-KB/s    in 0s      \n",
            "\n",
            "2023-06-16 02:58:48 (260 MB/s) - ‘indonesia2013-2015.csv’ saved [2771/2771]\n",
            "\n"
          ]
        }
      ]
    },
    {
      "cell_type": "markdown",
      "source": [
        "Kita gunakan magic command untuk melihat ukuran dan isi file (karena file kita cukup kecil)."
      ],
      "metadata": {
        "id": "3qD7ifpcl4ue"
      }
    },
    {
      "cell_type": "code",
      "source": [
        "%ls -al indonesia2013-2015.csv"
      ],
      "metadata": {
        "id": "4YKCOaiwmKO9",
        "colab": {
          "base_uri": "https://localhost:8080/"
        },
        "outputId": "300f12aa-f1db-4b27-ef53-3fa341777f25"
      },
      "execution_count": null,
      "outputs": [
        {
          "output_type": "stream",
          "name": "stdout",
          "text": [
            "-rw-r--r-- 1 root root 2771 Jun 16 02:58 indonesia2013-2015.csv\n"
          ]
        }
      ]
    },
    {
      "cell_type": "code",
      "source": [
        "%cat indonesia2013-2015.csv"
      ],
      "metadata": {
        "id": "kEX7VuFZl498",
        "colab": {
          "base_uri": "https://localhost:8080/"
        },
        "outputId": "504f874e-3e21-4d0e-9b73-843730e7a8a9"
      },
      "execution_count": null,
      "outputs": [
        {
          "output_type": "stream",
          "name": "stdout",
          "text": [
            "province,year,density,timezone\r\n",
            "ACEH,2015,86,WIB\r\n",
            "SUMATERA UTARA,2015,191,WIB\r\n",
            "SUMATERA BARAT,2015,124,WIB\r\n",
            "RIAU,2015,73,WIB\r\n",
            "JAMBI,2015,68,WIB\r\n",
            "KEP. RIAU,2015,241,WIB\r\n",
            "KEP. BANGKA BELITUNG,2015,84,WIB\r\n",
            "BENGKULU,2015,94,WIB\r\n",
            "SUMATERA SELATAN,2015,88,WIB\r\n",
            "LAMPUNG,2015,234,WIB\r\n",
            "BANTEN,2015,1237,WIB\r\n",
            "JAWA BARAT,2015,1320,WIB\r\n",
            "DKI JAKARTA,2015,15328,WIB\r\n",
            "JAWA TENGAH,2015,1030,WIB\r\n",
            "DI YOGYAKARTA,2015,1174,WIB\r\n",
            "JAWA TIMUR,2015,813,WIB\r\n",
            "KALIMANTAN BARAT,2015,33,WIB\r\n",
            "KALIMANTAN TENGAH,2015,16,WIB\r\n",
            "KALIMANTAN UTARA,2015,9,WITA\r\n",
            "KALIMANTAN SELATAN,2015,103,WITA\r\n",
            "KALIMANTAN TIMUR,2015,27,WITA\r\n",
            "BALI,2015,718,WITA\r\n",
            "NUSA TENGGARA BARAT,2015,260,WITA\r\n",
            "NUSA TENGGARA TIMUR,2015,105,WITA\r\n",
            "GORONTALO,2015,101,WITA\r\n",
            "SULAWESI UTARA,2015,174,WITA\r\n",
            "SULAWESI TENGAH,2015,47,WITA\r\n",
            "SULAWESI BARAT,2015,76,WITA\r\n",
            "SULAWESI SELATAN,2015,182,WITA\r\n",
            "SULAWESI TENGGARA,2015,66,WITA\r\n",
            "MALUKU UTARA,2015,36,WIT\r\n",
            "MALUKU,2015,36,WIT\r\n",
            "PAPUA,2015,10,WIT\r\n",
            "PAPUA BARAT,2015,9,WIT\r\n",
            "ACEH,2014,85,WIB\r\n",
            "SUMATERA UTARA,2014,189,WIB\r\n",
            "SUMATERA BARAT,2014,122,WIB\r\n",
            "RIAU,2014,71,WIB\r\n",
            "JAMBI,2014,67,WIB\r\n",
            "KEP. RIAU,2014,234,WIB\r\n",
            "KEP. BANGKA BELITUNG,2014,82,WIB\r\n",
            "BENGKULU,2014,93,WIB\r\n",
            "SUMATERA SELATAN,2014,87,WIB\r\n",
            "LAMPUNG,2014,232,WIB\r\n",
            "BANTEN,2014,1211,WIB\r\n",
            "JAWA BARAT,2014,1301,WIB\r\n",
            "DKI JAKARTA,2014,15173,WIB\r\n",
            "JAWA TENGAH,2014,1022,WIB\r\n",
            "DI YOGYAKARTA,2014,1161,WIB\r\n",
            "JAWA TIMUR,2014,808,WIB\r\n",
            "KALIMANTAN BARAT,2014,32,WIB\r\n",
            "KALIMANTAN TENGAH,2014,16,WIB\r\n",
            "KALIMANTAN UTARA,2014,8,WITA\r\n",
            "KALIMANTAN SELATAN,2014,101,WITA\r\n",
            "KALIMANTAN TIMUR,2014,26,WITA\r\n",
            "BALI,2014,710,WITA\r\n",
            "NUSA TENGGARA BARAT,2014,257,WITA\r\n",
            "NUSA TENGGARA TIMUR,2014,103,WITA\r\n",
            "GORONTALO,2014,99,WITA\r\n",
            "SULAWESI UTARA,2014,172,WITA\r\n",
            "SULAWESI TENGAH,2014,46,WITA\r\n",
            "SULAWESI BARAT,2014,75,WITA\r\n",
            "SULAWESI SELATAN,2014,180,WITA\r\n",
            "SULAWESI TENGGARA,2014,64,WITA\r\n",
            "MALUKU UTARA,2014,36,WIT\r\n",
            "MALUKU,2014,35,WIT\r\n",
            "PAPUA,2014,10,WIT\r\n",
            "PAPUA BARAT,2014,9,WIT\r\n",
            "ACEH,2013,83,WIB\r\n",
            "SUMATERA UTARA,2013,186,WIB\r\n",
            "SUMATERA BARAT,2013,121,WIB\r\n",
            "RIAU,2013,69,WIB\r\n",
            "JAMBI,2013,66,WIB\r\n",
            "KEP. RIAU,2013,227,WIB\r\n",
            "KEP. BANGKA BELITUNG,2013,80,WIB\r\n",
            "BENGKULU,2013,91,WIB\r\n",
            "SUMATERA SELATAN,2013,85,WIB\r\n",
            "LAMPUNG,2013,229,WIB\r\n",
            "BANTEN,2013,1185,WIB\r\n",
            "JAWA BARAT,2013,1282,WIB\r\n",
            "DKI JAKARTA,2013,15015,WIB\r\n",
            "JAWA TENGAH,2013,1014,WIB\r\n",
            "DI YOGYAKARTA,2013,1147,WIB\r\n",
            "JAWA TIMUR,2013,803,WIB\r\n",
            "KALIMANTAN BARAT,2013,32,WIB\r\n",
            "KALIMANTAN TENGAH,2013,16,WIB\r\n",
            "KALIMANTAN UTARA,2013,,WITA\r\n",
            "KALIMANTAN SELATAN,2013,99,WITA\r\n",
            "KALIMANTAN TIMUR,2013,19,WITA\r\n",
            "BALI,2013,702,WITA\r\n",
            "NUSA TENGGARA BARAT,2013,254,WITA\r\n",
            "NUSA TENGGARA TIMUR,2013,102,WITA\r\n",
            "GORONTALO,2013,98,WITA\r\n",
            "SULAWESI UTARA,2013,170,WITA\r\n",
            "SULAWESI TENGAH,2013,45,WITA\r\n",
            "SULAWESI BARAT,2013,74,WITA\r\n",
            "SULAWESI SELATAN,2013,179,WITA\r\n",
            "SULAWESI TENGGARA,2013,63,WITA\r\n",
            "MALUKU UTARA,2013,35,WIT\r\n",
            "MALUKU,2013,35,WIT\r\n",
            "PAPUA,2013,10,WIT\r\n",
            "PAPUA BARAT,2013,9,WIT"
          ]
        }
      ]
    },
    {
      "cell_type": "markdown",
      "source": [
        "Karena data yang kita load sudah bersih, kita akan set inferSchema = True agar Spark menyesuaikan tipe kolom dengan datanya."
      ],
      "metadata": {
        "id": "Iw-Y0fIMl29B"
      }
    },
    {
      "cell_type": "code",
      "metadata": {
        "id": "4tQqD2VYm7ZR"
      },
      "source": [
        "df = spark.read.csv(\"indonesia2013-2015.csv\",header=True,inferSchema=True)"
      ],
      "execution_count": null,
      "outputs": []
    },
    {
      "cell_type": "markdown",
      "metadata": {
        "id": "Vbwg-RH5m1JG"
      },
      "source": [
        "###2.1 Melihat sekilas"
      ]
    },
    {
      "cell_type": "markdown",
      "metadata": {
        "id": "oTGwnupfKBMU"
      },
      "source": [
        "####Menampilkan beberapa baris\n",
        "\n",
        "Biasanya kita menampilkan beberapa baris data untuk mengecek format dan konten dataframe yang kita buat.\n",
        "\n",
        "Untuk menampilkan beberapa baris dari dataframe, kita bisa gunakan perintah ``show(n)`` untuk menampilkan n baris pertama, atau ``first()`` untuk menampilkan 1 baris pertama saja."
      ]
    },
    {
      "cell_type": "code",
      "metadata": {
        "id": "y-ccShKgnGBw",
        "colab": {
          "base_uri": "https://localhost:8080/"
        },
        "outputId": "3ad024f9-cbae-44e8-9168-047536fe42bc"
      },
      "source": [
        "df.show(5)\n",
        "df.first()"
      ],
      "execution_count": null,
      "outputs": [
        {
          "output_type": "stream",
          "name": "stdout",
          "text": [
            "+--------------+----+-------+--------+\n",
            "|      province|year|density|timezone|\n",
            "+--------------+----+-------+--------+\n",
            "|          ACEH|2015|     86|     WIB|\n",
            "|SUMATERA UTARA|2015|    191|     WIB|\n",
            "|SUMATERA BARAT|2015|    124|     WIB|\n",
            "|          RIAU|2015|     73|     WIB|\n",
            "|         JAMBI|2015|     68|     WIB|\n",
            "+--------------+----+-------+--------+\n",
            "only showing top 5 rows\n",
            "\n"
          ]
        },
        {
          "output_type": "execute_result",
          "data": {
            "text/plain": [
              "Row(province='ACEH', year=2015, density=86, timezone='WIB')"
            ]
          },
          "metadata": {},
          "execution_count": 18
        }
      ]
    },
    {
      "cell_type": "markdown",
      "metadata": {
        "id": "fX7rzHbOQRyv"
      },
      "source": [
        "####Menampilkan jumlah kolom"
      ]
    },
    {
      "cell_type": "code",
      "metadata": {
        "id": "CbUMZTJ8QSYF",
        "colab": {
          "base_uri": "https://localhost:8080/"
        },
        "outputId": "37e10ed4-f17a-4453-f048-c591bea40998"
      },
      "source": [
        "df.columns"
      ],
      "execution_count": null,
      "outputs": [
        {
          "output_type": "execute_result",
          "data": {
            "text/plain": [
              "['province', 'year', 'density', 'timezone']"
            ]
          },
          "metadata": {},
          "execution_count": 20
        }
      ]
    },
    {
      "cell_type": "markdown",
      "metadata": {
        "id": "GkyOlEULP_g-"
      },
      "source": [
        "####Menampilkan total records"
      ]
    },
    {
      "cell_type": "code",
      "metadata": {
        "id": "YtSRF5xFQBmc",
        "colab": {
          "base_uri": "https://localhost:8080/"
        },
        "outputId": "6021e443-3930-4286-a45e-59d2f646ef05"
      },
      "source": [
        "df.count()"
      ],
      "execution_count": null,
      "outputs": [
        {
          "output_type": "execute_result",
          "data": {
            "text/plain": [
              "102"
            ]
          },
          "metadata": {},
          "execution_count": 21
        }
      ]
    },
    {
      "cell_type": "markdown",
      "metadata": {
        "id": "99-M00F5nKdO"
      },
      "source": [
        "####Menampilkan skema\n",
        "\n",
        "Untuk menampilkan skema dataframe, gunakan fungsi `printSchema()`\n",
        "\n"
      ]
    },
    {
      "cell_type": "code",
      "metadata": {
        "id": "WOlh-X3nnL62",
        "colab": {
          "base_uri": "https://localhost:8080/"
        },
        "outputId": "06a09693-cc8f-491d-d1c7-6ca88a317abe"
      },
      "source": [
        "df.printSchema()"
      ],
      "execution_count": null,
      "outputs": [
        {
          "output_type": "stream",
          "name": "stdout",
          "text": [
            "root\n",
            " |-- province: string (nullable = true)\n",
            " |-- year: integer (nullable = true)\n",
            " |-- density: integer (nullable = true)\n",
            " |-- timezone: string (nullable = true)\n",
            "\n"
          ]
        }
      ]
    },
    {
      "cell_type": "markdown",
      "metadata": {
        "id": "b_rKrAAenlC0"
      },
      "source": [
        "Akses atribut `columns` untuk menampilkan list nama kolom\n"
      ]
    },
    {
      "cell_type": "code",
      "metadata": {
        "id": "y8el4g04nnII",
        "colab": {
          "base_uri": "https://localhost:8080/"
        },
        "outputId": "a5428c90-26f6-42a2-b4f1-0c439079245e"
      },
      "source": [
        "df.columns"
      ],
      "execution_count": null,
      "outputs": [
        {
          "output_type": "execute_result",
          "data": {
            "text/plain": [
              "['province', 'year', 'density', 'timezone']"
            ]
          },
          "metadata": {},
          "execution_count": 23
        }
      ]
    },
    {
      "cell_type": "markdown",
      "source": [
        "Akses atribut `dtypes` untuk menampilkan list nama kolom beserta data type masing-masing kolom tersebut"
      ],
      "metadata": {
        "id": "juHaBiLq_ldO"
      }
    },
    {
      "cell_type": "code",
      "metadata": {
        "id": "49CkcSSNnuRH",
        "colab": {
          "base_uri": "https://localhost:8080/"
        },
        "outputId": "600d59af-431e-45e7-e4fe-731caf6f6107"
      },
      "source": [
        "df.dtypes"
      ],
      "execution_count": null,
      "outputs": [
        {
          "output_type": "execute_result",
          "data": {
            "text/plain": [
              "[('province', 'string'),\n",
              " ('year', 'int'),\n",
              " ('density', 'int'),\n",
              " ('timezone', 'string')]"
            ]
          },
          "metadata": {},
          "execution_count": 24
        }
      ]
    },
    {
      "cell_type": "markdown",
      "metadata": {
        "id": "OpPxH6tlnY5R"
      },
      "source": [
        "####Menampilkan summary statistik\n",
        "\n",
        "Fungsi `describe()` digunakan untuk menampilkan summary statistik dari seluruh kolom.\n",
        "\n",
        "Jangan lupa memanggil fungsi `show()` untuk menampilkan hasilnya."
      ]
    },
    {
      "cell_type": "code",
      "metadata": {
        "id": "S_WjXzh-ncSu",
        "colab": {
          "base_uri": "https://localhost:8080/"
        },
        "outputId": "5a6e3994-7451-4a21-abd0-4ac3fd4c4f60"
      },
      "source": [
        "df.describe().show()"
      ],
      "execution_count": null,
      "outputs": [
        {
          "output_type": "stream",
          "name": "stdout",
          "text": [
            "+-------+--------------+-----------------+------------------+--------+\n",
            "|summary|      province|             year|           density|timezone|\n",
            "+-------+--------------+-----------------+------------------+--------+\n",
            "|  count|           102|              102|               101|     102|\n",
            "|   mean|          null|           2014.0| 710.2475247524752|    null|\n",
            "| stddev|          null|0.820528687330573|2570.8287045462234|    null|\n",
            "|    min|          ACEH|             2013|                 8|     WIB|\n",
            "|    max|SUMATERA UTARA|             2015|             15328|    WITA|\n",
            "+-------+--------------+-----------------+------------------+--------+\n",
            "\n"
          ]
        }
      ]
    },
    {
      "cell_type": "markdown",
      "metadata": {
        "id": "WWykQ_0KnpLT"
      },
      "source": [
        "Untuk menampilkan statistik dari salah satu kolom saja, gunakan nama kolom yang akan ditampilkan sebagai parameter. Misalnya `describe('column1')`"
      ]
    },
    {
      "cell_type": "code",
      "metadata": {
        "id": "feq2JOTOn0dq",
        "colab": {
          "base_uri": "https://localhost:8080/"
        },
        "outputId": "9070db87-405e-41b6-9913-f85d1eca7df7"
      },
      "source": [
        "df.describe(\"density\").show()"
      ],
      "execution_count": null,
      "outputs": [
        {
          "output_type": "stream",
          "name": "stdout",
          "text": [
            "+-------+------------------+\n",
            "|summary|           density|\n",
            "+-------+------------------+\n",
            "|  count|               101|\n",
            "|   mean| 710.2475247524752|\n",
            "| stddev|2570.8287045462234|\n",
            "|    min|                 8|\n",
            "|    max|             15328|\n",
            "+-------+------------------+\n",
            "\n"
          ]
        }
      ]
    },
    {
      "cell_type": "markdown",
      "metadata": {
        "id": "DYDiKb4Rn_0c"
      },
      "source": [
        "###2.2 Filtering\n",
        "\n"
      ]
    },
    {
      "cell_type": "markdown",
      "source": [
        "Kita dapat melakukan filtering terhadap spark dataframe, berdasar kolom atau baris"
      ],
      "metadata": {
        "id": "Y3BTu53eBAqp"
      }
    },
    {
      "cell_type": "markdown",
      "metadata": {
        "id": "-om-OrZquQQo"
      },
      "source": [
        "####Memilih kolom tertentu\n",
        "\n",
        "Untuk menampilkan kolom tertentu, digunakan fungsi `select('nama_kolom')`\n"
      ]
    },
    {
      "cell_type": "code",
      "metadata": {
        "id": "QdQzWlmvoJXv",
        "colab": {
          "base_uri": "https://localhost:8080/"
        },
        "outputId": "1aa0d806-8a9c-4489-fc84-d242db4c9720"
      },
      "source": [
        "df.select(\"year\").show(10)"
      ],
      "execution_count": null,
      "outputs": [
        {
          "output_type": "stream",
          "name": "stdout",
          "text": [
            "+----+\n",
            "|year|\n",
            "+----+\n",
            "|2015|\n",
            "|2015|\n",
            "|2015|\n",
            "|2015|\n",
            "|2015|\n",
            "|2015|\n",
            "|2015|\n",
            "|2015|\n",
            "|2015|\n",
            "|2015|\n",
            "+----+\n",
            "only showing top 10 rows\n",
            "\n"
          ]
        }
      ]
    },
    {
      "cell_type": "markdown",
      "metadata": {
        "id": "a1x_c-b9pcWc"
      },
      "source": [
        "Untuk memilih beberapa kolom, gunakan tanda koma sebagai pemisah"
      ]
    },
    {
      "cell_type": "code",
      "metadata": {
        "id": "SQbyEyDCpekb",
        "colab": {
          "base_uri": "https://localhost:8080/"
        },
        "outputId": "de286e28-b7a7-454a-dab4-dffdf51a68bc"
      },
      "source": [
        "df.select(\"province\",\"density\").show(10)"
      ],
      "execution_count": null,
      "outputs": [
        {
          "output_type": "stream",
          "name": "stdout",
          "text": [
            "+--------------------+-------+\n",
            "|            province|density|\n",
            "+--------------------+-------+\n",
            "|                ACEH|     86|\n",
            "|      SUMATERA UTARA|    191|\n",
            "|      SUMATERA BARAT|    124|\n",
            "|                RIAU|     73|\n",
            "|               JAMBI|     68|\n",
            "|           KEP. RIAU|    241|\n",
            "|KEP. BANGKA BELITUNG|     84|\n",
            "|            BENGKULU|     94|\n",
            "|    SUMATERA SELATAN|     88|\n",
            "|             LAMPUNG|    234|\n",
            "+--------------------+-------+\n",
            "only showing top 10 rows\n",
            "\n"
          ]
        }
      ]
    },
    {
      "cell_type": "markdown",
      "metadata": {
        "id": "ghJrZSCpoo7C"
      },
      "source": [
        "####Memilih records / baris\n",
        "\n",
        "Untuk memilih baris dengan kondisi tertentu, gunakan fungsi `filter(<kondisi>)`\n",
        "\n"
      ]
    },
    {
      "cell_type": "code",
      "metadata": {
        "id": "xwTmG_QyoQHM",
        "colab": {
          "base_uri": "https://localhost:8080/"
        },
        "outputId": "43c515a0-cc69-429d-8c80-ae6953b5e855"
      },
      "source": [
        "df.filter(df.density > 5000).show()"
      ],
      "execution_count": null,
      "outputs": [
        {
          "output_type": "stream",
          "name": "stdout",
          "text": [
            "+-----------+----+-------+--------+\n",
            "|   province|year|density|timezone|\n",
            "+-----------+----+-------+--------+\n",
            "|DKI JAKARTA|2015|  15328|     WIB|\n",
            "|DKI JAKARTA|2014|  15173|     WIB|\n",
            "|DKI JAKARTA|2013|  15015|     WIB|\n",
            "+-----------+----+-------+--------+\n",
            "\n"
          ]
        }
      ]
    },
    {
      "cell_type": "markdown",
      "metadata": {
        "id": "8c4790g0r7GK"
      },
      "source": [
        "Untuk menggunakan kondisi berupa operasi string, dapat digunakan fungsi-fungsi dari `pyspark.sql.Column` yang terkait string, misalnya `contains()`, `startswith()`, `endswith()`"
      ]
    },
    {
      "cell_type": "code",
      "metadata": {
        "id": "8VL5e4DFofWH",
        "colab": {
          "base_uri": "https://localhost:8080/"
        },
        "outputId": "a1fbc6a4-61cd-4aa7-dc4e-8356400b5e90"
      },
      "source": [
        "df.filter(df.province.contains('TENGGARA')).show(5)\n",
        "df.filter(df.province.startswith('SU')).show(5)\n",
        "df.filter(df.province.endswith('BARAT')).show(5)"
      ],
      "execution_count": null,
      "outputs": [
        {
          "output_type": "stream",
          "name": "stdout",
          "text": [
            "+-------------------+----+-------+--------+\n",
            "|           province|year|density|timezone|\n",
            "+-------------------+----+-------+--------+\n",
            "|NUSA TENGGARA BARAT|2015|    260|    WITA|\n",
            "|NUSA TENGGARA TIMUR|2015|    105|    WITA|\n",
            "|  SULAWESI TENGGARA|2015|     66|    WITA|\n",
            "|NUSA TENGGARA BARAT|2014|    257|    WITA|\n",
            "|NUSA TENGGARA TIMUR|2014|    103|    WITA|\n",
            "+-------------------+----+-------+--------+\n",
            "only showing top 5 rows\n",
            "\n",
            "+----------------+----+-------+--------+\n",
            "|        province|year|density|timezone|\n",
            "+----------------+----+-------+--------+\n",
            "|  SUMATERA UTARA|2015|    191|     WIB|\n",
            "|  SUMATERA BARAT|2015|    124|     WIB|\n",
            "|SUMATERA SELATAN|2015|     88|     WIB|\n",
            "|  SULAWESI UTARA|2015|    174|    WITA|\n",
            "| SULAWESI TENGAH|2015|     47|    WITA|\n",
            "+----------------+----+-------+--------+\n",
            "only showing top 5 rows\n",
            "\n",
            "+-------------------+----+-------+--------+\n",
            "|           province|year|density|timezone|\n",
            "+-------------------+----+-------+--------+\n",
            "|     SUMATERA BARAT|2015|    124|     WIB|\n",
            "|         JAWA BARAT|2015|   1320|     WIB|\n",
            "|   KALIMANTAN BARAT|2015|     33|     WIB|\n",
            "|NUSA TENGGARA BARAT|2015|    260|    WITA|\n",
            "|     SULAWESI BARAT|2015|     76|    WITA|\n",
            "+-------------------+----+-------+--------+\n",
            "only showing top 5 rows\n",
            "\n"
          ]
        }
      ]
    },
    {
      "cell_type": "markdown",
      "metadata": {
        "id": "2u7x8thvs2yp"
      },
      "source": [
        "Tersedia juga fungsi `like()` yang serupa dengan SQL statement *like*"
      ]
    },
    {
      "cell_type": "code",
      "metadata": {
        "id": "V3qDU-rYs7kc",
        "colab": {
          "base_uri": "https://localhost:8080/"
        },
        "outputId": "df28df6d-bf47-494e-87e3-e24d56675652"
      },
      "source": [
        "df.filter(df.province.like('SU%')).show(5)"
      ],
      "execution_count": null,
      "outputs": [
        {
          "output_type": "stream",
          "name": "stdout",
          "text": [
            "+----------------+----+-------+--------+\n",
            "|        province|year|density|timezone|\n",
            "+----------------+----+-------+--------+\n",
            "|  SUMATERA UTARA|2015|    191|     WIB|\n",
            "|  SUMATERA BARAT|2015|    124|     WIB|\n",
            "|SUMATERA SELATAN|2015|     88|     WIB|\n",
            "|  SULAWESI UTARA|2015|    174|    WITA|\n",
            "| SULAWESI TENGAH|2015|     47|    WITA|\n",
            "+----------------+----+-------+--------+\n",
            "only showing top 5 rows\n",
            "\n"
          ]
        }
      ]
    },
    {
      "cell_type": "markdown",
      "metadata": {
        "id": "sWaHUzxHtSeg"
      },
      "source": [
        "Atau dapat juga menggunakan regex, dengan fungsi `rlike()`"
      ]
    },
    {
      "cell_type": "code",
      "metadata": {
        "id": "OVjEkO-vtUtC",
        "colab": {
          "base_uri": "https://localhost:8080/"
        },
        "outputId": "6ad6e745-2538-481a-eec8-6e64a11c779c"
      },
      "source": [
        "df.filter(df.province.rlike('[A-Z]*TA$')).show()"
      ],
      "execution_count": null,
      "outputs": [
        {
          "output_type": "stream",
          "name": "stdout",
          "text": [
            "+-------------+----+-------+--------+\n",
            "|     province|year|density|timezone|\n",
            "+-------------+----+-------+--------+\n",
            "|  DKI JAKARTA|2015|  15328|     WIB|\n",
            "|DI YOGYAKARTA|2015|   1174|     WIB|\n",
            "|  DKI JAKARTA|2014|  15173|     WIB|\n",
            "|DI YOGYAKARTA|2014|   1161|     WIB|\n",
            "|  DKI JAKARTA|2013|  15015|     WIB|\n",
            "|DI YOGYAKARTA|2013|   1147|     WIB|\n",
            "+-------------+----+-------+--------+\n",
            "\n"
          ]
        }
      ]
    },
    {
      "cell_type": "markdown",
      "metadata": {
        "id": "114ZKh-PuArH"
      },
      "source": [
        "Dapat juga menggunakan filter berdasar list, dengan fungsi `isin()`"
      ]
    },
    {
      "cell_type": "code",
      "metadata": {
        "id": "0FNg0NkIt-2g",
        "colab": {
          "base_uri": "https://localhost:8080/"
        },
        "outputId": "dac6b57d-31f6-4c0a-f94d-c1260fe5d75f"
      },
      "source": [
        "df.filter(df.timezone.isin('WIT','WITA')).show(5)"
      ],
      "execution_count": null,
      "outputs": [
        {
          "output_type": "stream",
          "name": "stdout",
          "text": [
            "+-------------------+----+-------+--------+\n",
            "|           province|year|density|timezone|\n",
            "+-------------------+----+-------+--------+\n",
            "|   KALIMANTAN UTARA|2015|      9|    WITA|\n",
            "| KALIMANTAN SELATAN|2015|    103|    WITA|\n",
            "|   KALIMANTAN TIMUR|2015|     27|    WITA|\n",
            "|               BALI|2015|    718|    WITA|\n",
            "|NUSA TENGGARA BARAT|2015|    260|    WITA|\n",
            "+-------------------+----+-------+--------+\n",
            "only showing top 5 rows\n",
            "\n"
          ]
        }
      ]
    },
    {
      "cell_type": "markdown",
      "metadata": {
        "id": "U_zzv1_aYXBe"
      },
      "source": [
        "Untuk menggunakan beberapa kondisi sekaligus, menggunakan tanda `&` untuk AND dan `|` untuk OR, dengan masing-masing kondisi dilingkupi tanda kurung `()`"
      ]
    },
    {
      "cell_type": "code",
      "metadata": {
        "id": "5dAZ7aDoYalg",
        "colab": {
          "base_uri": "https://localhost:8080/"
        },
        "outputId": "b52844fc-e65e-4a5e-d2bd-f577c45fcbcc"
      },
      "source": [
        "df.filter((df.timezone.isin('WIT','WITA')) & (df.year == 2013)).show(5)"
      ],
      "execution_count": null,
      "outputs": [
        {
          "output_type": "stream",
          "name": "stdout",
          "text": [
            "+-------------------+----+-------+--------+\n",
            "|           province|year|density|timezone|\n",
            "+-------------------+----+-------+--------+\n",
            "|   KALIMANTAN UTARA|2013|   null|    WITA|\n",
            "| KALIMANTAN SELATAN|2013|     99|    WITA|\n",
            "|   KALIMANTAN TIMUR|2013|     19|    WITA|\n",
            "|               BALI|2013|    702|    WITA|\n",
            "|NUSA TENGGARA BARAT|2013|    254|    WITA|\n",
            "+-------------------+----+-------+--------+\n",
            "only showing top 5 rows\n",
            "\n"
          ]
        }
      ]
    },
    {
      "cell_type": "markdown",
      "metadata": {
        "id": "DZb03bk5QKwo"
      },
      "source": [
        "###2.3 Unique value\n",
        "\n",
        "Untuk menampilkan nilai unik dari dataframe, digunakan fungsi `distinct()`.\n",
        "\n",
        "Nilai unik di sini adalah kombinasi nilai dari seluruh kolom."
      ]
    },
    {
      "cell_type": "code",
      "metadata": {
        "id": "sAIvwxbpQbj-"
      },
      "source": [
        "df.distinct().show()"
      ],
      "execution_count": null,
      "outputs": []
    },
    {
      "cell_type": "markdown",
      "metadata": {
        "id": "u_2VKvj1QnVc"
      },
      "source": [
        "Untuk menampilkan nilai unik dari kolom tertentu, tulis nama kolom yang dimaksud sebagai parameter."
      ]
    },
    {
      "cell_type": "code",
      "metadata": {
        "id": "EjlP69w-QqaV"
      },
      "source": [
        "df.select('timezone').distinct().show()\n",
        "df.select('year','timezone').distinct().show()"
      ],
      "execution_count": null,
      "outputs": []
    },
    {
      "cell_type": "markdown",
      "source": [
        "####Menghapus duplikasi data"
      ],
      "metadata": {
        "id": "P3Uie0m1uVeJ"
      }
    },
    {
      "cell_type": "markdown",
      "source": [
        "Untuk menghapus record duplikat, gunakan `dropDuplicates(subset)` atau `drop_duplicates(subset)`."
      ],
      "metadata": {
        "id": "65nP6e1lgTFE"
      }
    },
    {
      "cell_type": "code",
      "source": [
        "df.dropDuplicates(['province', 'timezone']).show(100)"
      ],
      "metadata": {
        "id": "5feLEyAJuZPw"
      },
      "execution_count": null,
      "outputs": []
    },
    {
      "cell_type": "markdown",
      "metadata": {
        "id": "rcLgEXz-PlvN"
      },
      "source": [
        "###2.4 Agregasi"
      ]
    },
    {
      "cell_type": "markdown",
      "metadata": {
        "id": "R0kFRECNRqBL"
      },
      "source": [
        "####Group by column\n",
        "\n",
        "Untuk mengelompokkan berdasar kolom, gunakan perintah `groupBy('nama_kolom')`\n",
        "\n",
        "Untuk mengelompokkan berdasar lebih dari 1 kolom, gunakan tanda koma sebagai pemisah nama kolom."
      ]
    },
    {
      "cell_type": "code",
      "source": [
        "df.groupBy(\"timezone\")"
      ],
      "metadata": {
        "id": "oVa4FSWws8Xo",
        "colab": {
          "base_uri": "https://localhost:8080/"
        },
        "outputId": "c07de198-cd0a-4dc4-f437-4282c75fd9ea"
      },
      "execution_count": null,
      "outputs": [
        {
          "output_type": "execute_result",
          "data": {
            "text/plain": [
              "<pyspark.sql.group.GroupedData at 0x7f07a9791030>"
            ]
          },
          "metadata": {},
          "execution_count": 41
        }
      ]
    },
    {
      "cell_type": "code",
      "source": [
        "df.groupBy(\"timezone\",\"year\")"
      ],
      "metadata": {
        "id": "IKsy1iphtWwe",
        "colab": {
          "base_uri": "https://localhost:8080/"
        },
        "outputId": "02de0367-a1c0-4827-dace-cb86e0e5d32b"
      },
      "execution_count": null,
      "outputs": [
        {
          "output_type": "execute_result",
          "data": {
            "text/plain": [
              "<pyspark.sql.group.GroupedData at 0x7f07a97917e0>"
            ]
          },
          "metadata": {},
          "execution_count": 42
        }
      ]
    },
    {
      "cell_type": "markdown",
      "source": [
        "Perintah `groupBy()` menghasilkan obyek `GroupedData` yang belum bisa ditampilkan.\n",
        "\n",
        "Biasanya setelah pengelompokan, kita melakukan operasi sumarisasi data. Kita terapkan operasi tersebut pada objek hasil groupBy dengan memanggil fungsi yang dibutuhkan. Misalnya `count()` atau `max('namakolom')`"
      ],
      "metadata": {
        "id": "3bzjnDEQtdiI"
      }
    },
    {
      "cell_type": "code",
      "metadata": {
        "id": "B9aXQsIWFt3O",
        "colab": {
          "base_uri": "https://localhost:8080/"
        },
        "outputId": "091639b3-890a-408d-9ed6-3103ab3553e0"
      },
      "source": [
        "df.groupBy('timezone').count().show()\n",
        "df.groupBy('timezone').max('density').show()"
      ],
      "execution_count": null,
      "outputs": [
        {
          "output_type": "stream",
          "name": "stdout",
          "text": [
            "+--------+-----+\n",
            "|timezone|count|\n",
            "+--------+-----+\n",
            "|     WIT|   12|\n",
            "|     WIB|   54|\n",
            "|    WITA|   36|\n",
            "+--------+-----+\n",
            "\n",
            "+--------+------------+\n",
            "|timezone|max(density)|\n",
            "+--------+------------+\n",
            "|     WIT|          36|\n",
            "|     WIB|       15328|\n",
            "|    WITA|         718|\n",
            "+--------+------------+\n",
            "\n"
          ]
        }
      ]
    },
    {
      "cell_type": "markdown",
      "metadata": {
        "id": "-Kr85hEQJl8a"
      },
      "source": [
        "Kita juga bisa menggunakan fungsi `agg()` untuk melakukan agregasi. Terutama jika kita ingin melakukan lebih dari 1 operasi agregat.\n",
        "\n",
        "Kita bisa menggunakan fungsi `alias()` untuk memberi nama kolom hasil agregasi."
      ]
    },
    {
      "cell_type": "code",
      "metadata": {
        "id": "_d2I29cpHV_Q",
        "colab": {
          "base_uri": "https://localhost:8080/"
        },
        "outputId": "41fe59e6-ec60-4eae-d9af-56291698dde5"
      },
      "source": [
        "df.groupBy(\"timezone\").agg(F.max('density')).show()\n",
        "df.groupBy(\"timezone\").agg(F.avg('density').alias('avg_density'), \\\n",
        "                           F.min('density').alias('min_density'), \\\n",
        "                           F.max('density').alias('max_density')).show()"
      ],
      "execution_count": null,
      "outputs": [
        {
          "output_type": "stream",
          "name": "stdout",
          "text": [
            "+--------+------------+\n",
            "|timezone|max(density)|\n",
            "+--------+------------+\n",
            "|     WIT|          36|\n",
            "|     WIB|       15328|\n",
            "|    WITA|         718|\n",
            "+--------+------------+\n",
            "\n",
            "+--------+------------------+-----------+-----------+\n",
            "|timezone|       avg_density|min_density|max_density|\n",
            "+--------+------------------+-----------+-----------+\n",
            "|     WIT|              22.5|          9|         36|\n",
            "|     WIB|1221.3148148148148|         16|      15328|\n",
            "|    WITA|157.54285714285714|          8|        718|\n",
            "+--------+------------------+-----------+-----------+\n",
            "\n"
          ]
        }
      ]
    },
    {
      "cell_type": "markdown",
      "metadata": {
        "id": "Cci7rwBA0XiD"
      },
      "source": [
        "####Order By"
      ]
    },
    {
      "cell_type": "code",
      "metadata": {
        "id": "4LMTfZnTiZMI",
        "colab": {
          "base_uri": "https://localhost:8080/"
        },
        "outputId": "9d424209-7185-4efe-c62a-36e95d68bc66"
      },
      "source": [
        "df.groupBy(\"timezone\") \\\n",
        "  .mean(\"density\") \\\n",
        "  .orderBy(\"timezone\",ascending=False).show()"
      ],
      "execution_count": null,
      "outputs": [
        {
          "output_type": "stream",
          "name": "stdout",
          "text": [
            "+--------+------------------+\n",
            "|timezone|      avg(density)|\n",
            "+--------+------------------+\n",
            "|    WITA|157.54285714285714|\n",
            "|     WIT|              22.5|\n",
            "|     WIB|1221.3148148148148|\n",
            "+--------+------------------+\n",
            "\n"
          ]
        }
      ]
    },
    {
      "cell_type": "markdown",
      "metadata": {
        "id": "JD-e2D1X0lKq"
      },
      "source": [
        "####Agregasi dengan filter / kondisi"
      ]
    },
    {
      "cell_type": "code",
      "metadata": {
        "id": "RBy0oEPGhQAL",
        "colab": {
          "base_uri": "https://localhost:8080/"
        },
        "outputId": "c5e15706-0f92-4e5f-c415-a7b3b9a2bf49"
      },
      "source": [
        "df.groupBy(\"timezone\") \\\n",
        "  .mean(\"density\") \\\n",
        "  .where(df.timezone.contains('WIT')).show()"
      ],
      "execution_count": null,
      "outputs": [
        {
          "output_type": "stream",
          "name": "stdout",
          "text": [
            "+--------+------------------+\n",
            "|timezone|      avg(density)|\n",
            "+--------+------------------+\n",
            "|     WIT|              22.5|\n",
            "|    WITA|157.54285714285714|\n",
            "+--------+------------------+\n",
            "\n"
          ]
        }
      ]
    },
    {
      "cell_type": "markdown",
      "metadata": {
        "id": "TtQRWTYttuXh"
      },
      "source": [
        "####Filter hasil agregat (SQL stat **HAVING**)\n",
        "\n",
        "Untuk memfilter berdasar hasil agregasi (semacam perintah **HAVING** di SQL), lakukan dalam 2 langkah.\n",
        "1. Lakukan `groupBy` + `agg` dan beri nama kolom hasil agregat dengan `alias`\n",
        "2. gunakan fungsi `filter(kondisi)` pada kolom hasil agregasi."
      ]
    },
    {
      "cell_type": "code",
      "source": [
        "df_agg = df.groupBy(\"timezone\", \"province\") \\\n",
        "  .agg(F.avg(\"density\").alias(\"avg_density\")) \\\n",
        "  .where(df.timezone.contains('WIT'))\n",
        "\n",
        "df_agg.filter(df_agg.avg_density > 50).show()"
      ],
      "metadata": {
        "id": "B9VnDO8Dw3AO",
        "colab": {
          "base_uri": "https://localhost:8080/"
        },
        "outputId": "a2e3d3d1-ca6e-4855-9b82-4bd616994862"
      },
      "execution_count": null,
      "outputs": [
        {
          "output_type": "stream",
          "name": "stdout",
          "text": [
            "+--------+-------------------+------------------+\n",
            "|timezone|           province|       avg_density|\n",
            "+--------+-------------------+------------------+\n",
            "|    WITA|     SULAWESI UTARA|             172.0|\n",
            "|    WITA|          GORONTALO| 99.33333333333333|\n",
            "|    WITA| KALIMANTAN SELATAN|             101.0|\n",
            "|    WITA|  SULAWESI TENGGARA| 64.33333333333333|\n",
            "|    WITA|               BALI|             710.0|\n",
            "|    WITA|     SULAWESI BARAT|              75.0|\n",
            "|    WITA|NUSA TENGGARA TIMUR|103.33333333333333|\n",
            "|    WITA|   SULAWESI SELATAN|180.33333333333334|\n",
            "|    WITA|NUSA TENGGARA BARAT|             257.0|\n",
            "+--------+-------------------+------------------+\n",
            "\n"
          ]
        }
      ]
    },
    {
      "cell_type": "markdown",
      "source": [
        "###2.5 Transformasi DataFrame"
      ],
      "metadata": {
        "id": "t_PLmohQyBSM"
      }
    },
    {
      "cell_type": "markdown",
      "source": [
        "####Kolom baru berupa nilai konstan\n",
        "\n",
        "Untuk menambahkan kolom baru ke dalam dataframe, kita bisa menggunakan perintah `withColumn()`\n",
        "\n",
        "Sedangkan untuk menambahkan sebuah nilai konstan, kita bisa menggunakan fungsi `lit(nilai_konstan)` dari `pyspark.sql.functions`, yang berfungsi membuat kolom dari nilai literal/konstan.\n",
        "\n",
        "Misalnya kita ingin menambahkan kolom **status** yang bernilai 1"
      ],
      "metadata": {
        "id": "1Xu2MZwP0Hab"
      }
    },
    {
      "cell_type": "code",
      "source": [
        "df.withColumn('status', F.lit(1)).show(5)"
      ],
      "metadata": {
        "id": "RfFvAGjqAJ3n",
        "colab": {
          "base_uri": "https://localhost:8080/"
        },
        "outputId": "27d2e3d1-f81c-4295-a498-4b572bc470eb"
      },
      "execution_count": null,
      "outputs": [
        {
          "output_type": "stream",
          "name": "stdout",
          "text": [
            "+--------------+----+-------+--------+------+\n",
            "|      province|year|density|timezone|status|\n",
            "+--------------+----+-------+--------+------+\n",
            "|          ACEH|2015|     86|     WIB|     1|\n",
            "|SUMATERA UTARA|2015|    191|     WIB|     1|\n",
            "|SUMATERA BARAT|2015|    124|     WIB|     1|\n",
            "|          RIAU|2015|     73|     WIB|     1|\n",
            "|         JAMBI|2015|     68|     WIB|     1|\n",
            "+--------------+----+-------+--------+------+\n",
            "only showing top 5 rows\n",
            "\n"
          ]
        }
      ]
    },
    {
      "cell_type": "markdown",
      "source": [
        "####Kolom baru dari kolom yang ada\n",
        "\n"
      ],
      "metadata": {
        "id": "1LizYZ9dBYzI"
      }
    },
    {
      "cell_type": "code",
      "source": [
        "df.withColumn('tahun-1', df.year-1).show(5)"
      ],
      "metadata": {
        "id": "4rh9fTgaBdsS",
        "colab": {
          "base_uri": "https://localhost:8080/"
        },
        "outputId": "ca926529-4000-4a8b-fbe8-790ac05424ea"
      },
      "execution_count": null,
      "outputs": [
        {
          "output_type": "stream",
          "name": "stdout",
          "text": [
            "+--------------+----+-------+--------+-------+\n",
            "|      province|year|density|timezone|tahun-1|\n",
            "+--------------+----+-------+--------+-------+\n",
            "|          ACEH|2015|     86|     WIB|   2014|\n",
            "|SUMATERA UTARA|2015|    191|     WIB|   2014|\n",
            "|SUMATERA BARAT|2015|    124|     WIB|   2014|\n",
            "|          RIAU|2015|     73|     WIB|   2014|\n",
            "|         JAMBI|2015|     68|     WIB|   2014|\n",
            "+--------------+----+-------+--------+-------+\n",
            "only showing top 5 rows\n",
            "\n"
          ]
        }
      ]
    },
    {
      "cell_type": "markdown",
      "source": [
        "####Kondisional\n",
        "\n",
        "Untuk menambahkan kolom berdasar beberapa kondisi, gunakan `when` dan `otherwise` (jika perlu).\n",
        "\n",
        "Perhatikan bahwa `when` yang pertama adalah fungsi dalam `pyspark.sql.functions`, sedangkan `when` yang berikutnya adalah fungsi `when` pada object kolom (`pyspark.sql.Column`)\n",
        "\n",
        "Fungsi `otherwise` adalah kondisi *else* atau kondisi selain yang disebutkan pada *when*."
      ],
      "metadata": {
        "id": "yaDbu8YSCZqh"
      }
    },
    {
      "cell_type": "code",
      "source": [
        "df.withColumn('timezone1', F.when(df.timezone == 'WIT', 1).\n",
        "              when(df.timezone == 'WIT', 2).\n",
        "              otherwise(3)).show(5)"
      ],
      "metadata": {
        "id": "t70gfGAYBtSh"
      },
      "execution_count": null,
      "outputs": []
    },
    {
      "cell_type": "markdown",
      "metadata": {
        "id": "52CxmiOt0dwW"
      },
      "source": [
        "###2.6 Data enrichment - Join"
      ]
    },
    {
      "cell_type": "markdown",
      "metadata": {
        "id": "KO7h6k6iHEXr"
      },
      "source": [
        "\n",
        "Perintah ntuk melakukan join adalah sebagai berikut :\n",
        "\n",
        "`df1.join(df2, on=[columname], how=’left’)`\n",
        "\n",
        "Where :\n",
        "-    `df1` − Dataframe1.\n",
        "-    `df2` – Dataframe2.\n",
        "-    `on` − nama kolom yang akan digunakan untuk join.\n",
        "-    `how` – type of join needs to be performed – `left`, `right`, `outer`, `inner`. Defaultnya adalah inner join.\n"
      ]
    },
    {
      "cell_type": "markdown",
      "source": [
        "Create dataframe yang akan digunakan untuk join"
      ],
      "metadata": {
        "id": "1kaJk2F5E4WM"
      }
    },
    {
      "cell_type": "code",
      "metadata": {
        "id": "3zpT210OGDMa"
      },
      "source": [
        "damdata = ((\"SUMATERA SELATAN\",2),\n",
        "(\"SULAWESI TENGAH\",2),\n",
        "(\"SULAWESI SELATAN\",2),\n",
        "(\"SUMATERA BARAT\",3),\n",
        "(\"RIAU\",3),\n",
        "(\"LAMPUNG\",3),\n",
        "(\"NUSA TENGGARA TIMUR\",4),\n",
        "(\"BENGKULU\",8),\n",
        "(\"SUMATERA UTARA\",10),\n",
        "(\"JAWA TIMUR\",12),\n",
        "(\"JAWA TENGAH\",35),\n",
        "(\"JAWA BARAT\",49))\n",
        "\n",
        "df_dam = spark.createDataFrame(damdata).toDF(\"province\", \"dam_num\")\n",
        "\n",
        "df_dam.show()"
      ],
      "execution_count": null,
      "outputs": []
    },
    {
      "cell_type": "markdown",
      "metadata": {
        "id": "8QN1QKE8_Dp9"
      },
      "source": [
        "Join dataframe kepadatan penduduk dengan dataframe jumlah bendungan, berdasarkan nama propinsi."
      ]
    },
    {
      "cell_type": "code",
      "metadata": {
        "id": "4BxH6wBdG7bY"
      },
      "source": [
        "df.join(df_dam, on=['province'], how='inner').show()"
      ],
      "execution_count": null,
      "outputs": []
    },
    {
      "cell_type": "markdown",
      "metadata": {
        "id": "d_3UfzMTIDzg"
      },
      "source": [
        "Untuk melakukan left join, tentukan parameter `how`"
      ]
    },
    {
      "cell_type": "code",
      "metadata": {
        "id": "8yLuRcy4IEV3"
      },
      "source": [
        "df_2015.join(df_dam, on=['province'], how='left').show(40)"
      ],
      "execution_count": null,
      "outputs": []
    },
    {
      "cell_type": "code",
      "metadata": {
        "id": "tGrlD5ashACP"
      },
      "source": [],
      "execution_count": null,
      "outputs": []
    },
    {
      "cell_type": "markdown",
      "source": [
        "Update history\n",
        "\n",
        "2302.1956\n",
        "* _Translate dan lengkapi penjelasan_\n",
        "* _Menambahkan bab transformasi DataFrame_\n",
        "* _Code cleanup_\n"
      ],
      "metadata": {
        "id": "1-hOMmiCFsl9"
      }
    }
  ]
}