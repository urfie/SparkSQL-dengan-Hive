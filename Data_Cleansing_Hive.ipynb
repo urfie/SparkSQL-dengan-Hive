{
 "cells": [
  {
   "cell_type": "markdown",
   "id": "8a5d0037-96d6-4d1c-ab86-438d9babe657",
   "metadata": {},
   "source": [
    "Dalam latihan ini kita akan melakukan data cleansing dan transform menggunakan data credit card approval. \n",
    "Data diambil dari sini : https://www.kaggle.com/datasets/rikdifos/credit-card-approval-prediction/data\n",
    "\n",
    "Yang akan kita lakukan adalah sebagai berikut : \n",
    "- Load data\n",
    "- Eksplorasi\n",
    "- Menangani empty/NULL column : mengisi dengan nilai default\n",
    "- Melakukan agregasi dan join data credit application dan data credit record yang sudah diagregasi \n",
    "- Transformasi tanggal\n",
    "\n",
    "Yang akan kita lakukan tentu bukan proses menghitung credit risk yang ideal, akan tetapi hanya untuk menunjukkan beberapa operasi yang biasa kita lakukan dalam data preprocessing, dilakukan dengan spark dan hive."
   ]
  },
  {
   "cell_type": "code",
   "execution_count": 31,
   "id": "16d61793-960d-4def-b200-2854875df931",
   "metadata": {},
   "outputs": [],
   "source": [
    "from pyspark.sql import SparkSession\n",
    "import pyspark.sql.functions as f"
   ]
  },
  {
   "cell_type": "code",
   "execution_count": 32,
   "id": "b35be691-bf5a-4826-b5e7-747b7676e1bb",
   "metadata": {},
   "outputs": [],
   "source": [
    "spark = SparkSession.builder.appName('Hive Basics').enableHiveSupport().getOrCreate()"
   ]
  },
  {
   "cell_type": "markdown",
   "id": "a32c7905-bbc8-4369-9df1-21e36b4e0d51",
   "metadata": {},
   "source": [
    "## Prepare data"
   ]
  },
  {
   "cell_type": "markdown",
   "id": "994cfe3c-32f3-46e4-8385-17008d69bdf4",
   "metadata": {},
   "source": [
    "### Download dataset"
   ]
  },
  {
   "cell_type": "code",
   "execution_count": 6,
   "id": "a5e25b10-1a25-471b-a647-be7caf0f21a9",
   "metadata": {},
   "outputs": [
    {
     "name": "stdout",
     "output_type": "stream",
     "text": [
      "--2023-10-06 07:47:54--  https://github.com/urfie/SparkSQL-dengan-Hive/raw/main/datasets/application_record.csv.gz\n",
      "Resolving github.com (github.com)... 20.205.243.166\n",
      "Connecting to github.com (github.com)|20.205.243.166|:443... connected.\n",
      "HTTP request sent, awaiting response... 302 Found\n",
      "Location: https://raw.githubusercontent.com/urfie/SparkSQL-dengan-Hive/main/datasets/application_record.csv.gz [following]\n",
      "--2023-10-06 07:47:55--  https://raw.githubusercontent.com/urfie/SparkSQL-dengan-Hive/main/datasets/application_record.csv.gz\n",
      "Resolving raw.githubusercontent.com (raw.githubusercontent.com)... 185.199.110.133, 185.199.111.133, 185.199.108.133, ...\n",
      "Connecting to raw.githubusercontent.com (raw.githubusercontent.com)|185.199.110.133|:443... connected.\n",
      "HTTP request sent, awaiting response... 200 OK\n",
      "Length: 3175168 (3,0M) [application/octet-stream]\n",
      "Saving to: ‘data/application_record.csv.gz.1’\n",
      "\n",
      "application_record. 100%[===================>]   3,03M  4,07MB/s    in 0,7s    \n",
      "\n",
      "2023-10-06 07:47:56 (4,07 MB/s) - ‘data/application_record.csv.gz.1’ saved [3175168/3175168]\n",
      "\n"
     ]
    }
   ],
   "source": [
    "!wget  -P data https://github.com/urfie/SparkSQL-dengan-Hive/raw/main/datasets/application_record.csv.gz"
   ]
  },
  {
   "cell_type": "code",
   "execution_count": 5,
   "id": "fa8dbcba-aa56-4699-8053-f561ba1668d1",
   "metadata": {},
   "outputs": [
    {
     "name": "stdout",
     "output_type": "stream",
     "text": [
      "--2023-10-06 07:47:34--  https://github.com/urfie/SparkSQL-dengan-Hive/raw/main/datasets/credit_record.csv.gz\n",
      "Resolving github.com (github.com)... 20.205.243.166\n",
      "Connecting to github.com (github.com)|20.205.243.166|:443... connected.\n",
      "HTTP request sent, awaiting response... 302 Found\n",
      "Location: https://raw.githubusercontent.com/urfie/SparkSQL-dengan-Hive/main/datasets/credit_record.csv.gz [following]\n",
      "--2023-10-06 07:47:34--  https://raw.githubusercontent.com/urfie/SparkSQL-dengan-Hive/main/datasets/credit_record.csv.gz\n",
      "Resolving raw.githubusercontent.com (raw.githubusercontent.com)... 185.199.108.133, 185.199.111.133, 185.199.110.133, ...\n",
      "Connecting to raw.githubusercontent.com (raw.githubusercontent.com)|185.199.108.133|:443... connected.\n",
      "HTTP request sent, awaiting response... 200 OK\n",
      "Length: 2684548 (2,6M) [application/octet-stream]\n",
      "Saving to: ‘data/credit_record.csv.gz.1’\n",
      "\n",
      "credit_record.csv.g 100%[===================>]   2,56M  2,65MB/s    in 1,0s    \n",
      "\n",
      "2023-10-06 07:47:36 (2,65 MB/s) - ‘data/credit_record.csv.gz.1’ saved [2684548/2684548]\n",
      "\n"
     ]
    }
   ],
   "source": [
    "!wget -P data https://github.com/urfie/SparkSQL-dengan-Hive/raw/main/datasets/credit_record.csv.gz "
   ]
  },
  {
   "cell_type": "markdown",
   "id": "446de10e-0bd9-42d5-95d6-8f443764aaea",
   "metadata": {},
   "source": [
    "### Load to HDFS"
   ]
  },
  {
   "cell_type": "code",
   "execution_count": null,
   "id": "8ffdc66a-44eb-4ad3-b422-224b895bfddf",
   "metadata": {},
   "outputs": [],
   "source": []
  },
  {
   "cell_type": "code",
   "execution_count": null,
   "id": "357df984-3cc2-48e2-9535-60b392ba0079",
   "metadata": {},
   "outputs": [],
   "source": [
    "!hdfs dfs -ls /user/hadoop"
   ]
  },
  {
   "cell_type": "code",
   "execution_count": null,
   "id": "0c807a9f-028f-4097-8ab2-60ca07e26782",
   "metadata": {},
   "outputs": [],
   "source": [
    "!hdfs dfs -mkdir /user/hadoop/cc_data"
   ]
  },
  {
   "cell_type": "code",
   "execution_count": null,
   "id": "7a0554e7-74ee-4b33-9880-5a04f403430f",
   "metadata": {},
   "outputs": [],
   "source": [
    "!hdfs dfs -mkdir /user/hadoop/cc_data/credit"
   ]
  },
  {
   "cell_type": "code",
   "execution_count": null,
   "id": "d663be4a-cbc1-471e-bba3-f424c2e6e416",
   "metadata": {},
   "outputs": [],
   "source": [
    "!hdfs dfs -put data/credit_record.csv.gz /user/hadoop/cc_data/credit"
   ]
  },
  {
   "cell_type": "code",
   "execution_count": 34,
   "id": "73aba719-2dcc-4d5e-91e5-dbdf68c7050d",
   "metadata": {},
   "outputs": [
    {
     "name": "stdout",
     "output_type": "stream",
     "text": [
      "Found 1 items\n",
      "-rw-r--r--   1 hadoop supergroup    2684548 2023-10-06 07:26 /user/hadoop/cc_data/credit/credit_record.csv.gz\n"
     ]
    }
   ],
   "source": [
    "!hdfs dfs -ls /user/hadoop/cc_data/credit"
   ]
  },
  {
   "cell_type": "code",
   "execution_count": null,
   "id": "db88b1a7-0749-46a3-861e-0a01f8b735a5",
   "metadata": {},
   "outputs": [],
   "source": [
    "!hdfs dfs -mkdir /user/hadoop/cc_data/app"
   ]
  },
  {
   "cell_type": "code",
   "execution_count": null,
   "id": "5e7a6bb4-a2a9-4c2c-8873-d8a147fdce2f",
   "metadata": {},
   "outputs": [],
   "source": [
    "!hdfs dfs -put data/application_record.csv.gz /user/hadoop/cc_data/app"
   ]
  },
  {
   "cell_type": "code",
   "execution_count": 35,
   "id": "1cd07720-cdbe-4554-89ac-7f4ae5a36522",
   "metadata": {},
   "outputs": [
    {
     "name": "stdout",
     "output_type": "stream",
     "text": [
      "Found 1 items\n",
      "-rw-r--r--   1 hadoop supergroup    3175168 2023-10-06 07:25 /user/hadoop/cc_data/app/application_record.csv.gz\n"
     ]
    }
   ],
   "source": [
    "!hdfs dfs -ls /user/hadoop/cc_data/app"
   ]
  },
  {
   "cell_type": "code",
   "execution_count": null,
   "id": "5a2be605-a0dc-44df-a405-cdec80db6f64",
   "metadata": {},
   "outputs": [],
   "source": [
    "spark.sql(\"CREATE DATABASE user0;\")"
   ]
  },
  {
   "cell_type": "markdown",
   "id": "2c71af0a-660b-4610-8fbc-eaa914aa88dd",
   "metadata": {},
   "source": [
    "### Create external tables"
   ]
  },
  {
   "cell_type": "code",
   "execution_count": null,
   "id": "2b8ebde5-a5e5-4185-b309-4bc161009556",
   "metadata": {},
   "outputs": [],
   "source": [
    "spark.sql(\"\"\"CREATE TABLE user0.credit_ext(\n",
    "id STRING,\n",
    "months_balance BIGINT,\n",
    "status STRING)\n",
    "ROW FORMAT DELIMITED\n",
    "FIELDS TERMINATED BY ','\n",
    "STORED AS TEXTFILE\n",
    "LOCATION 'hdfs://127.0.0.1:9000/user/hadoop/cc_data/credit');\n",
    "\"\"\")"
   ]
  },
  {
   "cell_type": "code",
   "execution_count": 33,
   "id": "9913e06b-6aec-4e53-9ba4-1bb3845294fd",
   "metadata": {},
   "outputs": [
    {
     "name": "stdout",
     "output_type": "stream",
     "text": [
      "+-------+--------------+------+\n",
      "|     id|months_balance|status|\n",
      "+-------+--------------+------+\n",
      "|5001711|             0|     X|\n",
      "|5001711|            -1|     0|\n",
      "|5001711|            -2|     0|\n",
      "|5001711|            -3|     0|\n",
      "|5001712|             0|     C|\n",
      "|5001712|            -1|     C|\n",
      "|5001712|            -2|     C|\n",
      "|5001712|            -3|     C|\n",
      "|5001712|            -4|     C|\n",
      "|5001712|            -5|     C|\n",
      "|5001712|            -6|     C|\n",
      "|5001712|            -7|     C|\n",
      "|5001712|            -8|     C|\n",
      "|5001712|            -9|     0|\n",
      "|5001712|           -10|     0|\n",
      "|5001712|           -11|     0|\n",
      "|5001712|           -12|     0|\n",
      "|5001712|           -13|     0|\n",
      "|5001712|           -14|     0|\n",
      "|5001712|           -15|     0|\n",
      "+-------+--------------+------+\n",
      "only showing top 20 rows\n",
      "\n"
     ]
    }
   ],
   "source": [
    "spark.sql(\"select * from user0.credit_ext\").show()"
   ]
  },
  {
   "cell_type": "code",
   "execution_count": null,
   "id": "4198320a-3638-45c9-abbd-e7aaa90c2c08",
   "metadata": {},
   "outputs": [],
   "source": [
    "#spark.sql(\"drop table user0.app_ext\")"
   ]
  },
  {
   "cell_type": "code",
   "execution_count": null,
   "id": "20fb9267-3b54-4f16-8673-c50b879d403d",
   "metadata": {},
   "outputs": [],
   "source": [
    "spark.sql(\"\"\"\n",
    "CREATE TABLE user0.app_ext(\n",
    "id\tSTRING,\n",
    "code_gender\tSTRING,\n",
    "flag_own_car\tSTRING,\n",
    "flag_own_realty\tSTRING,\n",
    "cnt_children\tSTRING,\n",
    "amt_income_total\tSTRING,\n",
    "name_income_type\tSTRING,\n",
    "name_education_type\tSTRING,\n",
    "name_family_status\tSTRING,\n",
    "name_housing_type\tSTRING,\n",
    "days_birth\tINT,\n",
    "days_employed\tINT,\n",
    "flag_mobil\tINT,\n",
    "flag_work_phone\tINT,\n",
    "flag_phone\tINT,\n",
    "flag_email\tINT,\n",
    "occupation_type\tSTRING,\n",
    "cnt_fam_members\tINT)\n",
    "ROW FORMAT DELIMITED\n",
    "FIELDS TERMINATED BY ','\n",
    "STORED AS TEXTFILE\n",
    "LOCATION 'hdfs://127.0.0.1:9000/user/hadoop/cc_data/app';\n",
    "\"\"\")"
   ]
  },
  {
   "cell_type": "code",
   "execution_count": 36,
   "id": "0983b08c-b3c7-4755-805c-ec3c5e461c2d",
   "metadata": {},
   "outputs": [
    {
     "name": "stdout",
     "output_type": "stream",
     "text": [
      "+-------+-----------+------------+---------------+------------+----------------+--------------------+-----------------------------+--------------------+-----------------+----------+-------------+----------+---------------+----------+----------+---------------+---------------+\n",
      "|id     |code_gender|flag_own_car|flag_own_realty|cnt_children|amt_income_total|name_income_type    |name_education_type          |name_family_status  |name_housing_type|days_birth|days_employed|flag_mobil|flag_work_phone|flag_phone|flag_email|occupation_type|cnt_fam_members|\n",
      "+-------+-----------+------------+---------------+------------+----------------+--------------------+-----------------------------+--------------------+-----------------+----------+-------------+----------+---------------+----------+----------+---------------+---------------+\n",
      "|5008804|M          |Y           |Y              |0           |427500.0        |Working             |Higher education             |Civil marriage      |Rented apartment |-12005    |-4542        |1         |1              |0         |0         |               |2              |\n",
      "|5008805|M          |Y           |Y              |0           |427500.0        |Working             |Higher education             |Civil marriage      |Rented apartment |-12005    |-4542        |1         |1              |0         |0         |               |2              |\n",
      "|5008806|M          |Y           |Y              |0           |112500.0        |Working             |Secondary / secondary special|Married             |House / apartment|-21474    |-1134        |1         |0              |0         |0         |Security staff |2              |\n",
      "|5008808|F          |N           |Y              |0           |270000.0        |Commercial associate|Secondary / secondary special|Single / not married|House / apartment|-19110    |-3051        |1         |0              |1         |1         |Sales staff    |1              |\n",
      "|5008809|F          |N           |Y              |0           |270000.0        |Commercial associate|Secondary / secondary special|Single / not married|House / apartment|-19110    |-3051        |1         |0              |1         |1         |Sales staff    |1              |\n",
      "+-------+-----------+------------+---------------+------------+----------------+--------------------+-----------------------------+--------------------+-----------------+----------+-------------+----------+---------------+----------+----------+---------------+---------------+\n",
      "\n"
     ]
    }
   ],
   "source": [
    "spark.sql(\"select * from user0.app_ext limit 5\").show(truncate=False)"
   ]
  },
  {
   "cell_type": "markdown",
   "id": "fd7adf3a-b5b1-4d7b-a807-c29d7c27bf96",
   "metadata": {},
   "source": [
    "### Create Managed table"
   ]
  },
  {
   "cell_type": "code",
   "execution_count": null,
   "id": "f56abcc2-280b-485b-bca6-db3a78b2c642",
   "metadata": {},
   "outputs": [],
   "source": [
    "spark.sql(\"\"\"CREATE TABLE user0.credit(\n",
    "id STRING,\n",
    "months_balance BIGINT,\n",
    "status STRING)\n",
    "STORED AS ORC;\n",
    "\"\"\")"
   ]
  },
  {
   "cell_type": "code",
   "execution_count": null,
   "id": "8b7b70f9-24f8-4189-8d94-8e69cc50037b",
   "metadata": {},
   "outputs": [],
   "source": [
    "spark.sql(\"insert into user0.credit select * from user0.credit_ext\")"
   ]
  },
  {
   "cell_type": "code",
   "execution_count": null,
   "id": "a2264bbf-ed6a-4d1c-ae13-dcbc37d76e7a",
   "metadata": {},
   "outputs": [],
   "source": [
    "spark.sql(\"\"\"\n",
    "CREATE TABLE user0.app(\n",
    "id\tSTRING,\n",
    "code_gender\tSTRING,\n",
    "flag_own_car\tSTRING,\n",
    "flag_own_realty\tSTRING,\n",
    "cnt_children\tSTRING,\n",
    "amt_income_total\tSTRING,\n",
    "name_income_type\tSTRING,\n",
    "name_education_type\tSTRING,\n",
    "name_family_status\tSTRING,\n",
    "name_housing_type\tSTRING,\n",
    "days_birth\tINT,\n",
    "days_employed\tINT,\n",
    "flag_mobil\tINT,\n",
    "flag_work_phone\tINT,\n",
    "flag_phone\tINT,\n",
    "flag_email\tINT,\n",
    "occupation_type\tSTRING,\n",
    "cnt_fam_members\tINT)\n",
    "STORED AS ORC;\n",
    "\"\"\")"
   ]
  },
  {
   "cell_type": "code",
   "execution_count": null,
   "id": "ab38e436-7060-4816-a930-5e8576da0c52",
   "metadata": {},
   "outputs": [],
   "source": [
    "spark.sql(\"insert into user0.app select * from user0.app_ext\")"
   ]
  },
  {
   "cell_type": "markdown",
   "id": "3bf39891-eb86-4f66-a5d4-89b6a4d2a72f",
   "metadata": {},
   "source": [
    "## Clean Data "
   ]
  },
  {
   "cell_type": "markdown",
   "id": "6fde7782-fef3-4af7-a457-3d90076796e1",
   "metadata": {},
   "source": [
    "### Explorasi Data"
   ]
  },
  {
   "cell_type": "code",
   "execution_count": 43,
   "id": "0a3e7613-6492-4141-afd5-ef9abe6508cc",
   "metadata": {},
   "outputs": [
    {
     "name": "stderr",
     "output_type": "stream",
     "text": [
      "[Stage 47:>                                                         (0 + 1) / 1]\r"
     ]
    },
    {
     "name": "stdout",
     "output_type": "stream",
     "text": [
      "+------+\n",
      "|status|\n",
      "+------+\n",
      "|     3|\n",
      "|     0|\n",
      "|     5|\n",
      "|     C|\n",
      "|     X|\n",
      "|     1|\n",
      "|     4|\n",
      "|     2|\n",
      "+------+\n",
      "\n"
     ]
    },
    {
     "name": "stderr",
     "output_type": "stream",
     "text": [
      "                                                                                \r"
     ]
    }
   ],
   "source": [
    "spark.sql(\"select distinct status from user0.credit_ext\").show()"
   ]
  },
  {
   "cell_type": "code",
   "execution_count": 44,
   "id": "437e3460-a741-437f-9e66-f720f131133a",
   "metadata": {},
   "outputs": [
    {
     "name": "stdout",
     "output_type": "stream",
     "text": [
      "+---------------------+\n",
      "|occupation_type      |\n",
      "+---------------------+\n",
      "|Managers             |\n",
      "|HR staff             |\n",
      "|Medicine staff       |\n",
      "|Accountants          |\n",
      "|Laborers             |\n",
      "|Cleaning staff       |\n",
      "|Private service staff|\n",
      "|Drivers              |\n",
      "|Sales staff          |\n",
      "|Realty agents        |\n",
      "|IT staff             |\n",
      "|Security staff       |\n",
      "|Secretaries          |\n",
      "|Low-skill Laborers   |\n",
      "|                     |\n",
      "|Core staff           |\n",
      "|Cooking staff        |\n",
      "|High skill tech staff|\n",
      "|Waiters/barmen staff |\n",
      "+---------------------+\n",
      "\n"
     ]
    },
    {
     "name": "stderr",
     "output_type": "stream",
     "text": [
      "                                                                                \r"
     ]
    }
   ],
   "source": [
    "spark.sql(\"select distinct occupation_type from user0.app_ext\").show(truncate = False)"
   ]
  },
  {
   "cell_type": "code",
   "execution_count": 45,
   "id": "4208d1f1-f6c2-4c0e-932d-85b6f310b04b",
   "metadata": {},
   "outputs": [
    {
     "name": "stderr",
     "output_type": "stream",
     "text": [
      "[Stage 53:>                                                         (0 + 1) / 1]\r"
     ]
    },
    {
     "name": "stdout",
     "output_type": "stream",
     "text": [
      "+-----------------------------+\n",
      "|name_education_type          |\n",
      "+-----------------------------+\n",
      "|Academic degree              |\n",
      "|Incomplete higher            |\n",
      "|Secondary / secondary special|\n",
      "|Lower secondary              |\n",
      "|Higher education             |\n",
      "+-----------------------------+\n",
      "\n"
     ]
    },
    {
     "name": "stderr",
     "output_type": "stream",
     "text": [
      "                                                                                \r"
     ]
    }
   ],
   "source": [
    "spark.sql(\"select distinct name_education_type from user0.app_ext\").show(truncate = False)"
   ]
  },
  {
   "cell_type": "code",
   "execution_count": 46,
   "id": "9c13e9d4-663e-4bbc-bd1f-bdd230e9bbda",
   "metadata": {},
   "outputs": [
    {
     "name": "stderr",
     "output_type": "stream",
     "text": [
      "[Stage 56:>                                                         (0 + 1) / 1]\r"
     ]
    },
    {
     "name": "stdout",
     "output_type": "stream",
     "text": [
      "+-----------+\n",
      "|code_gender|\n",
      "+-----------+\n",
      "|F          |\n",
      "|M          |\n",
      "+-----------+\n",
      "\n"
     ]
    },
    {
     "name": "stderr",
     "output_type": "stream",
     "text": [
      "                                                                                \r"
     ]
    }
   ],
   "source": [
    "spark.sql(\"select distinct code_gender from user0.app_ext\").show(truncate = False)"
   ]
  },
  {
   "cell_type": "code",
   "execution_count": 47,
   "id": "152ae31a-aee4-4aa0-9394-82a56f1162c3",
   "metadata": {},
   "outputs": [
    {
     "name": "stderr",
     "output_type": "stream",
     "text": [
      "[Stage 59:>                                                         (0 + 1) / 1]\r"
     ]
    },
    {
     "name": "stdout",
     "output_type": "stream",
     "text": [
      "+--------------------+\n",
      "|name_family_status  |\n",
      "+--------------------+\n",
      "|Separated           |\n",
      "|Married             |\n",
      "|Single / not married|\n",
      "|Widow               |\n",
      "|Civil marriage      |\n",
      "+--------------------+\n",
      "\n"
     ]
    },
    {
     "name": "stderr",
     "output_type": "stream",
     "text": [
      "                                                                                \r"
     ]
    }
   ],
   "source": [
    "spark.sql(\"select distinct name_family_status from user0.app_ext\").show(truncate = False)"
   ]
  },
  {
   "cell_type": "code",
   "execution_count": 48,
   "id": "60bb4cd9-6946-4837-95c3-1841815e74f0",
   "metadata": {},
   "outputs": [
    {
     "name": "stderr",
     "output_type": "stream",
     "text": [
      "[Stage 62:>                                                         (0 + 1) / 1]\r"
     ]
    },
    {
     "name": "stdout",
     "output_type": "stream",
     "text": [
      "+-------------------+\n",
      "|name_housing_type  |\n",
      "+-------------------+\n",
      "|House / apartment  |\n",
      "|Municipal apartment|\n",
      "|Co-op apartment    |\n",
      "|Rented apartment   |\n",
      "|Office apartment   |\n",
      "|With parents       |\n",
      "+-------------------+\n",
      "\n"
     ]
    },
    {
     "name": "stderr",
     "output_type": "stream",
     "text": [
      "                                                                                \r"
     ]
    }
   ],
   "source": [
    "spark.sql(\"select distinct name_housing_type from user0.app_ext\").show(truncate = False)"
   ]
  },
  {
   "cell_type": "markdown",
   "id": "9d599d1a-17d9-47f6-90f9-d6656d410c01",
   "metadata": {},
   "source": [
    "Dari hasil di atas terlihat bahwa kolom `occupation_type` memiliki record dengan nilai kosong (empty string).\n",
    "Note : Dalam hal ini Hive menyimpan kolom kosong sebagai empty string, bukan NULL "
   ]
  },
  {
   "cell_type": "markdown",
   "id": "7e1d44ed-3875-4397-9610-0a6e538131ce",
   "metadata": {},
   "source": [
    "### Load data ke DataFrame"
   ]
  },
  {
   "cell_type": "code",
   "execution_count": 37,
   "id": "df062ffb-c9c5-40ad-96b1-63717c4f5ebd",
   "metadata": {},
   "outputs": [],
   "source": [
    "dfApp = spark.sql(\"select * from user0.app_ext\")"
   ]
  },
  {
   "cell_type": "markdown",
   "id": "b3589cd4-f83d-4ea1-a7cf-87dd78eb639a",
   "metadata": {},
   "source": [
    "### Drop duplicates row"
   ]
  },
  {
   "cell_type": "markdown",
   "id": "0a872823-f04d-47cb-b483-113dd7965636",
   "metadata": {},
   "source": [
    "Membersihkan data duplikat, yaitu record dengan id yang sama "
   ]
  },
  {
   "cell_type": "code",
   "execution_count": 38,
   "id": "c77e0f7e-9b52-40d6-80da-fbb0e7a71803",
   "metadata": {},
   "outputs": [
    {
     "data": {
      "text/plain": [
       "438557"
      ]
     },
     "execution_count": 38,
     "metadata": {},
     "output_type": "execute_result"
    }
   ],
   "source": [
    "dfApp.count()"
   ]
  },
  {
   "cell_type": "code",
   "execution_count": 39,
   "id": "9f7788d0-a7a0-4977-9f03-3122c6a90827",
   "metadata": {},
   "outputs": [],
   "source": [
    "dfNodup = dfApp.drop_duplicates([\"id\"])"
   ]
  },
  {
   "cell_type": "code",
   "execution_count": 40,
   "id": "6853fce6-c1f3-4039-89ec-5c709a38b6a5",
   "metadata": {},
   "outputs": [
    {
     "name": "stderr",
     "output_type": "stream",
     "text": [
      "                                                                                \r"
     ]
    },
    {
     "data": {
      "text/plain": [
       "438510"
      ]
     },
     "execution_count": 40,
     "metadata": {},
     "output_type": "execute_result"
    }
   ],
   "source": [
    "dfNodup.count()"
   ]
  },
  {
   "cell_type": "markdown",
   "id": "37e1fcc7-a7b4-4ba7-8451-68c9705173b9",
   "metadata": {},
   "source": [
    "### Mengisi nilai default "
   ]
  },
  {
   "cell_type": "code",
   "execution_count": 41,
   "id": "ce0c941d-2c9d-4a93-916b-12e2bbe3b6d8",
   "metadata": {},
   "outputs": [],
   "source": [
    "dfClean = dfNodup.withColumn('occupation_type', \\\n",
    "                              f.when(f.trim(dfNodup['occupation_type']) == '', 'Other') \\\n",
    "                              .otherwise(dfNodup['occupation_type']))"
   ]
  },
  {
   "cell_type": "code",
   "execution_count": null,
   "id": "ebd7239f-7d37-46f8-a6e9-975ce6dc287e",
   "metadata": {},
   "outputs": [],
   "source": [
    "dfClean.select('occupation_type').distinct().show(truncate=False)"
   ]
  },
  {
   "cell_type": "markdown",
   "id": "6d908c3b-8fc8-4066-b384-f09905c13487",
   "metadata": {},
   "source": [
    "### Reformat tanggal lahir \n",
    "\n",
    "Kita akan menghitung tanggal lahir dengan rumus : tanggal saat ini - `days_birth`"
   ]
  },
  {
   "cell_type": "code",
   "execution_count": null,
   "id": "64326f12-d42f-4bd7-979a-1fb09002dbfe",
   "metadata": {},
   "outputs": [],
   "source": [
    "dfClean = dfClean.withColumn('dob', f.date_add(f.current_date(), dfClean.days_birth))"
   ]
  },
  {
   "cell_type": "code",
   "execution_count": null,
   "id": "3b3ca9fb-af3e-47af-9341-c73400bc37d5",
   "metadata": {},
   "outputs": [],
   "source": [
    "dfClean.show()"
   ]
  },
  {
   "cell_type": "markdown",
   "id": "776816a8-20f9-45c0-ad16-13afd9193474",
   "metadata": {},
   "source": [
    "### Reformat status kredit\n",
    "\n",
    "Berdasar deskripsi dataset, status kredit terdiri dari C, X, dan integer 0-5, dengan arti : \n",
    "- 0: 1-29 days past due \n",
    "- 1: 30-59 days past due\n",
    "- 2: 60-89 days overdue\n",
    "- 3: 90-119 days overdue\n",
    "- 4: 120-149 days overdue\n",
    "- 5: Overdue or bad debts, write-offs for more than 150 days\n",
    "- C: paid off that month\n",
    "- X: No loan for the month\n",
    "\n",
    "Kita akan  mengelompokkan jenis kredit menjadi 2, yaitu \n",
    "- 0 (Good Credit): X, C, dan 0\n",
    "- 1 (Bad Credit): 2 sampai 5"
   ]
  },
  {
   "cell_type": "code",
   "execution_count": null,
   "id": "534fcee4-818e-4e8a-8540-50e027967566",
   "metadata": {},
   "outputs": [],
   "source": [
    "dfCredit = spark.sql(\"select * from user0.credit\")"
   ]
  },
  {
   "cell_type": "code",
   "execution_count": null,
   "id": "762b133e-ea36-4044-abfd-845fd674aef0",
   "metadata": {},
   "outputs": [],
   "source": [
    "dfCredit = dfCredit.withColumn('status_new', \\\n",
    "                              f.when(dfCredit.status.isin(['X','C',0]), 0) \\\n",
    "                              .otherwise(1))\n",
    "dfAggregated = dfCredit.groupBy(\"id\").agg(f.sum(\"status_new\").alias(\"risk\"))"
   ]
  },
  {
   "cell_type": "markdown",
   "id": "095595b2-04f1-4b2d-ba7b-04056fd00ac7",
   "metadata": {},
   "source": [
    "### Join dengan data aplikasi "
   ]
  },
  {
   "cell_type": "code",
   "execution_count": null,
   "id": "a4f29bec-bb40-41ed-9dd4-d55583d5be15",
   "metadata": {},
   "outputs": [],
   "source": [
    "dfApp_joined = dfClean.join(dfAggregated,dfClean.id==dfAggregated.id, \"left\").select(dfClean[\"*\"],dfAggregated[\"risk\"])"
   ]
  },
  {
   "cell_type": "code",
   "execution_count": null,
   "id": "c15ab4bd-d136-44f5-95f2-aee3ca6b3a1f",
   "metadata": {},
   "outputs": [],
   "source": [
    "#dfApp_joined.show()"
   ]
  },
  {
   "cell_type": "markdown",
   "id": "4f9674c6-b719-4bae-864c-d7250f97f410",
   "metadata": {},
   "source": [
    "### Save ke tabel"
   ]
  },
  {
   "cell_type": "code",
   "execution_count": null,
   "id": "2648d618-b9de-4aa1-97a6-090be1a5010d",
   "metadata": {},
   "outputs": [],
   "source": [
    "dfApp_joined.write.saveAsTable(name=\"user0.app_risk_1\", mode=\"overwrite\",format=\"orc\")"
   ]
  },
  {
   "cell_type": "code",
   "execution_count": null,
   "id": "92b3309a-a4fa-48ac-89f1-af426e254496",
   "metadata": {},
   "outputs": [],
   "source": [
    "spark.sql(\"describe extended user0.app_risk_1\").show(100, truncate = False)"
   ]
  },
  {
   "cell_type": "code",
   "execution_count": null,
   "id": "c97ccbda-3b69-49d0-84ee-712fb72f6238",
   "metadata": {},
   "outputs": [],
   "source": [
    "spark.sql(\"select * from user0.app_risk_1\").show()"
   ]
  }
 ],
 "metadata": {
  "kernelspec": {
   "display_name": "Python 3 (ipykernel)",
   "language": "python",
   "name": "python3"
  },
  "language_info": {
   "codemirror_mode": {
    "name": "ipython",
    "version": 3
   },
   "file_extension": ".py",
   "mimetype": "text/x-python",
   "name": "python",
   "nbconvert_exporter": "python",
   "pygments_lexer": "ipython3",
   "version": "3.10.12"
  }
 },
 "nbformat": 4,
 "nbformat_minor": 5
}
